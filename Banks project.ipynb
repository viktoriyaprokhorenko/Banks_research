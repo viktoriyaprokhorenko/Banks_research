{
 "cells": [
  {
   "cell_type": "markdown",
   "id": "8dcb6194",
   "metadata": {},
   "source": [
    "# Банки - Анализ оттока клиентов"
   ]
  },
  {
   "cell_type": "markdown",
   "id": "fbb291fb",
   "metadata": {},
   "source": [
    "В датасете представлены данные о клиентах банка \"Метанпромбанка\". Банк располагается в Ярославле и областных городах: Ростов Великий и Рыбинск. Помимо характеристик клиентов датасет содержит информацию о том, является ли клиент активным.\n",
    "\n",
    "Маркетологи банка стали отмечать отток клиентов. В связи с этим необходимо:\n",
    "- провести исследовательский анализ данных;\n",
    "- проверить корреляцию между представленными признаками;\n",
    "- выделить значимые признаки отточности;\n",
    "- сравнить портреты типичных клиентов, которые склонны и не склонны уходить из банка; \n",
    "- проверить некоторые статистические гипотезы: например, о влияние доходов клиентов на отточность;\n",
    "- сформировать сегменты, объединяя признаки отточности;\n",
    "- приоритизировав сегменты, сформировать таргетированные рекомендации для маркетологов по удержанию оттекающих сегментов."
   ]
  },
  {
   "cell_type": "markdown",
   "id": "668027de",
   "metadata": {},
   "source": [
    "## Загрузка и описание данных"
   ]
  },
  {
   "cell_type": "code",
   "execution_count": 1,
   "id": "db3eeeb1",
   "metadata": {},
   "outputs": [
    {
     "name": "stdout",
     "output_type": "stream",
     "text": [
      "Requirement already satisfied: phik in c:\\users\\игорь\\desktop\\vik\\ve\\lib\\site-packages (0.12.3)\n",
      "Requirement already satisfied: scipy>=1.5.2 in c:\\users\\игорь\\desktop\\vik\\ve\\lib\\site-packages (from phik) (1.8.0)\n",
      "Requirement already satisfied: numpy>=1.18.0 in c:\\users\\игорь\\desktop\\vik\\ve\\lib\\site-packages (from phik) (1.22.3)\n",
      "Requirement already satisfied: matplotlib>=2.2.3 in c:\\users\\игорь\\desktop\\vik\\ve\\lib\\site-packages (from phik) (3.5.1)\n",
      "Requirement already satisfied: pandas>=0.25.1 in c:\\users\\игорь\\desktop\\vik\\ve\\lib\\site-packages (from phik) (1.5.3)\n",
      "Requirement already satisfied: joblib>=0.14.1 in c:\\users\\игорь\\desktop\\vik\\ve\\lib\\site-packages (from phik) (1.1.0)\n",
      "Requirement already satisfied: packaging>=20.0 in c:\\users\\игорь\\desktop\\vik\\ve\\lib\\site-packages (from matplotlib>=2.2.3->phik) (21.3)\n",
      "Requirement already satisfied: pillow>=6.2.0 in c:\\users\\игорь\\desktop\\vik\\ve\\lib\\site-packages (from matplotlib>=2.2.3->phik) (9.1.0)\n",
      "Requirement already satisfied: pyparsing>=2.2.1 in c:\\users\\игорь\\desktop\\vik\\ve\\lib\\site-packages (from matplotlib>=2.2.3->phik) (3.0.7)\n",
      "Requirement already satisfied: fonttools>=4.22.0 in c:\\users\\игорь\\desktop\\vik\\ve\\lib\\site-packages (from matplotlib>=2.2.3->phik) (4.33.2)\n",
      "Requirement already satisfied: cycler>=0.10 in c:\\users\\игорь\\desktop\\vik\\ve\\lib\\site-packages (from matplotlib>=2.2.3->phik) (0.11.0)\n",
      "Requirement already satisfied: kiwisolver>=1.0.1 in c:\\users\\игорь\\desktop\\vik\\ve\\lib\\site-packages (from matplotlib>=2.2.3->phik) (1.4.2)\n",
      "Requirement already satisfied: python-dateutil>=2.7 in c:\\users\\игорь\\desktop\\vik\\ve\\lib\\site-packages (from matplotlib>=2.2.3->phik) (2.8.2)\n",
      "Requirement already satisfied: pytz>=2020.1 in c:\\users\\игорь\\desktop\\vik\\ve\\lib\\site-packages (from pandas>=0.25.1->phik) (2022.1)\n",
      "Requirement already satisfied: six>=1.5 in c:\\users\\игорь\\desktop\\vik\\ve\\lib\\site-packages (from python-dateutil>=2.7->matplotlib>=2.2.3->phik) (1.16.0)\n",
      "Note: you may need to restart the kernel to use updated packages.\n"
     ]
    },
    {
     "name": "stderr",
     "output_type": "stream",
     "text": [
      "\n",
      "[notice] A new release of pip is available: 23.0.1 -> 23.3.1\n",
      "[notice] To update, run: python.exe -m pip install --upgrade pip\n"
     ]
    }
   ],
   "source": [
    "pip install phik"
   ]
  },
  {
   "cell_type": "code",
   "execution_count": 2,
   "id": "58e50599",
   "metadata": {},
   "outputs": [],
   "source": [
    "import pandas as pd\n",
    "import numpy as np\n",
    "import matplotlib.pyplot as plt\n",
    "import seaborn as sns\n",
    "import phik\n",
    "import scipy.stats as st"
   ]
  },
  {
   "cell_type": "code",
   "execution_count": 3,
   "id": "12b6d3b4",
   "metadata": {},
   "outputs": [
    {
     "data": {
      "text/html": [
       "<div>\n",
       "<style scoped>\n",
       "    .dataframe tbody tr th:only-of-type {\n",
       "        vertical-align: middle;\n",
       "    }\n",
       "\n",
       "    .dataframe tbody tr th {\n",
       "        vertical-align: top;\n",
       "    }\n",
       "\n",
       "    .dataframe thead th {\n",
       "        text-align: right;\n",
       "    }\n",
       "</style>\n",
       "<table border=\"1\" class=\"dataframe\">\n",
       "  <thead>\n",
       "    <tr style=\"text-align: right;\">\n",
       "      <th></th>\n",
       "      <th>USERID</th>\n",
       "      <th>score</th>\n",
       "      <th>city</th>\n",
       "      <th>gender</th>\n",
       "      <th>age</th>\n",
       "      <th>equity</th>\n",
       "      <th>balance</th>\n",
       "      <th>products</th>\n",
       "      <th>credit_card</th>\n",
       "      <th>last_activity</th>\n",
       "      <th>EST_SALARY</th>\n",
       "      <th>churn</th>\n",
       "    </tr>\n",
       "  </thead>\n",
       "  <tbody>\n",
       "    <tr>\n",
       "      <th>0</th>\n",
       "      <td>183012</td>\n",
       "      <td>850.0</td>\n",
       "      <td>Рыбинск</td>\n",
       "      <td>Ж</td>\n",
       "      <td>25.0</td>\n",
       "      <td>1</td>\n",
       "      <td>59214.82</td>\n",
       "      <td>2</td>\n",
       "      <td>0</td>\n",
       "      <td>1</td>\n",
       "      <td>75719.14</td>\n",
       "      <td>1</td>\n",
       "    </tr>\n",
       "    <tr>\n",
       "      <th>1</th>\n",
       "      <td>146556</td>\n",
       "      <td>861.0</td>\n",
       "      <td>Рыбинск</td>\n",
       "      <td>Ж</td>\n",
       "      <td>37.0</td>\n",
       "      <td>5</td>\n",
       "      <td>850594.33</td>\n",
       "      <td>3</td>\n",
       "      <td>1</td>\n",
       "      <td>0</td>\n",
       "      <td>86621.77</td>\n",
       "      <td>0</td>\n",
       "    </tr>\n",
       "    <tr>\n",
       "      <th>2</th>\n",
       "      <td>120722</td>\n",
       "      <td>892.0</td>\n",
       "      <td>Рыбинск</td>\n",
       "      <td>Ж</td>\n",
       "      <td>30.0</td>\n",
       "      <td>0</td>\n",
       "      <td>NaN</td>\n",
       "      <td>1</td>\n",
       "      <td>1</td>\n",
       "      <td>1</td>\n",
       "      <td>107683.34</td>\n",
       "      <td>0</td>\n",
       "    </tr>\n",
       "    <tr>\n",
       "      <th>3</th>\n",
       "      <td>225363</td>\n",
       "      <td>866.0</td>\n",
       "      <td>Ярославль</td>\n",
       "      <td>Ж</td>\n",
       "      <td>51.0</td>\n",
       "      <td>5</td>\n",
       "      <td>1524746.26</td>\n",
       "      <td>2</td>\n",
       "      <td>0</td>\n",
       "      <td>1</td>\n",
       "      <td>174423.53</td>\n",
       "      <td>1</td>\n",
       "    </tr>\n",
       "    <tr>\n",
       "      <th>4</th>\n",
       "      <td>157978</td>\n",
       "      <td>730.0</td>\n",
       "      <td>Ярославль</td>\n",
       "      <td>М</td>\n",
       "      <td>34.0</td>\n",
       "      <td>5</td>\n",
       "      <td>174.00</td>\n",
       "      <td>1</td>\n",
       "      <td>1</td>\n",
       "      <td>0</td>\n",
       "      <td>67353.16</td>\n",
       "      <td>1</td>\n",
       "    </tr>\n",
       "  </tbody>\n",
       "</table>\n",
       "</div>"
      ],
      "text/plain": [
       "   USERID  score       city gender   age  equity     balance  products  \\\n",
       "0  183012  850.0    Рыбинск      Ж  25.0       1    59214.82         2   \n",
       "1  146556  861.0    Рыбинск      Ж  37.0       5   850594.33         3   \n",
       "2  120722  892.0    Рыбинск      Ж  30.0       0         NaN         1   \n",
       "3  225363  866.0  Ярославль      Ж  51.0       5  1524746.26         2   \n",
       "4  157978  730.0  Ярославль      М  34.0       5      174.00         1   \n",
       "\n",
       "   credit_card  last_activity  EST_SALARY  churn  \n",
       "0            0              1    75719.14      1  \n",
       "1            1              0    86621.77      0  \n",
       "2            1              1   107683.34      0  \n",
       "3            0              1   174423.53      1  \n",
       "4            1              0    67353.16      1  "
      ]
     },
     "metadata": {},
     "output_type": "display_data"
    }
   ],
   "source": [
    "try:\n",
    "    data = pd.read_csv('bank_scrooge.csv')\n",
    "    display(data.head())\n",
    "except:\n",
    "    data = pd.read_csv('https://code.s3.yandex.net/datasets/bank_scrooge.csv')\n",
    "    display(data.head())\n",
    "    print('Try не работал')"
   ]
  },
  {
   "cell_type": "code",
   "execution_count": 4,
   "id": "d4fe6050",
   "metadata": {},
   "outputs": [
    {
     "data": {
      "text/html": [
       "<div>\n",
       "<style scoped>\n",
       "    .dataframe tbody tr th:only-of-type {\n",
       "        vertical-align: middle;\n",
       "    }\n",
       "\n",
       "    .dataframe tbody tr th {\n",
       "        vertical-align: top;\n",
       "    }\n",
       "\n",
       "    .dataframe thead th {\n",
       "        text-align: right;\n",
       "    }\n",
       "</style>\n",
       "<table border=\"1\" class=\"dataframe\">\n",
       "  <thead>\n",
       "    <tr style=\"text-align: right;\">\n",
       "      <th></th>\n",
       "      <th>USERID</th>\n",
       "      <th>score</th>\n",
       "      <th>city</th>\n",
       "      <th>gender</th>\n",
       "      <th>age</th>\n",
       "      <th>equity</th>\n",
       "      <th>balance</th>\n",
       "      <th>products</th>\n",
       "      <th>credit_card</th>\n",
       "      <th>last_activity</th>\n",
       "      <th>EST_SALARY</th>\n",
       "      <th>churn</th>\n",
       "    </tr>\n",
       "  </thead>\n",
       "  <tbody>\n",
       "    <tr>\n",
       "      <th>0</th>\n",
       "      <td>183012</td>\n",
       "      <td>850.0</td>\n",
       "      <td>Рыбинск</td>\n",
       "      <td>Ж</td>\n",
       "      <td>25.0</td>\n",
       "      <td>1</td>\n",
       "      <td>59214.82</td>\n",
       "      <td>2</td>\n",
       "      <td>0</td>\n",
       "      <td>1</td>\n",
       "      <td>75719.14</td>\n",
       "      <td>1</td>\n",
       "    </tr>\n",
       "    <tr>\n",
       "      <th>1</th>\n",
       "      <td>146556</td>\n",
       "      <td>861.0</td>\n",
       "      <td>Рыбинск</td>\n",
       "      <td>Ж</td>\n",
       "      <td>37.0</td>\n",
       "      <td>5</td>\n",
       "      <td>850594.33</td>\n",
       "      <td>3</td>\n",
       "      <td>1</td>\n",
       "      <td>0</td>\n",
       "      <td>86621.77</td>\n",
       "      <td>0</td>\n",
       "    </tr>\n",
       "    <tr>\n",
       "      <th>2</th>\n",
       "      <td>120722</td>\n",
       "      <td>892.0</td>\n",
       "      <td>Рыбинск</td>\n",
       "      <td>Ж</td>\n",
       "      <td>30.0</td>\n",
       "      <td>0</td>\n",
       "      <td>NaN</td>\n",
       "      <td>1</td>\n",
       "      <td>1</td>\n",
       "      <td>1</td>\n",
       "      <td>107683.34</td>\n",
       "      <td>0</td>\n",
       "    </tr>\n",
       "    <tr>\n",
       "      <th>3</th>\n",
       "      <td>225363</td>\n",
       "      <td>866.0</td>\n",
       "      <td>Ярославль</td>\n",
       "      <td>Ж</td>\n",
       "      <td>51.0</td>\n",
       "      <td>5</td>\n",
       "      <td>1524746.26</td>\n",
       "      <td>2</td>\n",
       "      <td>0</td>\n",
       "      <td>1</td>\n",
       "      <td>174423.53</td>\n",
       "      <td>1</td>\n",
       "    </tr>\n",
       "    <tr>\n",
       "      <th>4</th>\n",
       "      <td>157978</td>\n",
       "      <td>730.0</td>\n",
       "      <td>Ярославль</td>\n",
       "      <td>М</td>\n",
       "      <td>34.0</td>\n",
       "      <td>5</td>\n",
       "      <td>174.00</td>\n",
       "      <td>1</td>\n",
       "      <td>1</td>\n",
       "      <td>0</td>\n",
       "      <td>67353.16</td>\n",
       "      <td>1</td>\n",
       "    </tr>\n",
       "  </tbody>\n",
       "</table>\n",
       "</div>"
      ],
      "text/plain": [
       "   USERID  score       city gender   age  equity     balance  products  \\\n",
       "0  183012  850.0    Рыбинск      Ж  25.0       1    59214.82         2   \n",
       "1  146556  861.0    Рыбинск      Ж  37.0       5   850594.33         3   \n",
       "2  120722  892.0    Рыбинск      Ж  30.0       0         NaN         1   \n",
       "3  225363  866.0  Ярославль      Ж  51.0       5  1524746.26         2   \n",
       "4  157978  730.0  Ярославль      М  34.0       5      174.00         1   \n",
       "\n",
       "   credit_card  last_activity  EST_SALARY  churn  \n",
       "0            0              1    75719.14      1  \n",
       "1            1              0    86621.77      0  \n",
       "2            1              1   107683.34      0  \n",
       "3            0              1   174423.53      1  \n",
       "4            1              0    67353.16      1  "
      ]
     },
     "execution_count": 4,
     "metadata": {},
     "output_type": "execute_result"
    }
   ],
   "source": [
    "data.head()"
   ]
  },
  {
   "cell_type": "code",
   "execution_count": 5,
   "id": "e90c88e0",
   "metadata": {},
   "outputs": [
    {
     "name": "stdout",
     "output_type": "stream",
     "text": [
      "<class 'pandas.core.frame.DataFrame'>\n",
      "RangeIndex: 10000 entries, 0 to 9999\n",
      "Data columns (total 12 columns):\n",
      " #   Column         Non-Null Count  Dtype  \n",
      "---  ------         --------------  -----  \n",
      " 0   USERID         10000 non-null  int64  \n",
      " 1   score          10000 non-null  float64\n",
      " 2   city           10000 non-null  object \n",
      " 3   gender         10000 non-null  object \n",
      " 4   age            9974 non-null   float64\n",
      " 5   equity         10000 non-null  int64  \n",
      " 6   balance        7705 non-null   float64\n",
      " 7   products       10000 non-null  int64  \n",
      " 8   credit_card    10000 non-null  int64  \n",
      " 9   last_activity  10000 non-null  int64  \n",
      " 10  EST_SALARY     10000 non-null  float64\n",
      " 11  churn          10000 non-null  int64  \n",
      "dtypes: float64(4), int64(6), object(2)\n",
      "memory usage: 937.6+ KB\n"
     ]
    }
   ],
   "source": [
    "data.info()"
   ]
  },
  {
   "cell_type": "markdown",
   "id": "6845caa7",
   "metadata": {},
   "source": [
    "В представленных данных были замечены некоторые проблемы, которые планируется решить в процессе подготовки данных:\n",
    "\n",
    "- названия столбцов не структурированы; \n",
    "- возраст из вещественных чисел следует преобразовать в целые;\n",
    "- наблюдаются пропуски в части данных (возраст, баланс на счете);\n",
    "- категориальные переменные - город и пол - будут закодированы для целей корреляционного анализа."
   ]
  },
  {
   "cell_type": "markdown",
   "id": "0319f653",
   "metadata": {},
   "source": [
    "## Подготовка данных"
   ]
  },
  {
   "cell_type": "markdown",
   "id": "ad976c0f",
   "metadata": {},
   "source": [
    "### Обработка названий столбцов"
   ]
  },
  {
   "cell_type": "markdown",
   "id": "4875fe44",
   "metadata": {},
   "source": [
    "Было замечено, что названия 2-х полей датасета противоречат \"хорошему тону\" наименования столбцов в питоне - верхний регистр и отсутствие смысловых нижних подчеркиваний. Исправим это."
   ]
  },
  {
   "cell_type": "code",
   "execution_count": 6,
   "id": "1eb7f7d2",
   "metadata": {},
   "outputs": [
    {
     "data": {
      "text/plain": [
       "Index(['userid', 'score', 'city', 'gender', 'age', 'equity', 'balance',\n",
       "       'products', 'credit_card', 'last_activity', 'est_salary', 'churn'],\n",
       "      dtype='object')"
      ]
     },
     "execution_count": 6,
     "metadata": {},
     "output_type": "execute_result"
    }
   ],
   "source": [
    "# приведение названий столбцов к нижнему регистру\n",
    "\n",
    "data.columns = data.columns.str.lower()\n",
    "data.columns"
   ]
  },
  {
   "cell_type": "code",
   "execution_count": 7,
   "id": "5c5a074f",
   "metadata": {},
   "outputs": [
    {
     "data": {
      "text/html": [
       "<div>\n",
       "<style scoped>\n",
       "    .dataframe tbody tr th:only-of-type {\n",
       "        vertical-align: middle;\n",
       "    }\n",
       "\n",
       "    .dataframe tbody tr th {\n",
       "        vertical-align: top;\n",
       "    }\n",
       "\n",
       "    .dataframe thead th {\n",
       "        text-align: right;\n",
       "    }\n",
       "</style>\n",
       "<table border=\"1\" class=\"dataframe\">\n",
       "  <thead>\n",
       "    <tr style=\"text-align: right;\">\n",
       "      <th></th>\n",
       "      <th>user_id</th>\n",
       "      <th>score</th>\n",
       "      <th>city</th>\n",
       "      <th>gender</th>\n",
       "      <th>age</th>\n",
       "      <th>equity</th>\n",
       "      <th>balance</th>\n",
       "      <th>products</th>\n",
       "      <th>credit_card</th>\n",
       "      <th>last_activity</th>\n",
       "      <th>est_salary</th>\n",
       "      <th>churn</th>\n",
       "    </tr>\n",
       "  </thead>\n",
       "  <tbody>\n",
       "    <tr>\n",
       "      <th>0</th>\n",
       "      <td>183012</td>\n",
       "      <td>850.0</td>\n",
       "      <td>Рыбинск</td>\n",
       "      <td>Ж</td>\n",
       "      <td>25.0</td>\n",
       "      <td>1</td>\n",
       "      <td>59214.82</td>\n",
       "      <td>2</td>\n",
       "      <td>0</td>\n",
       "      <td>1</td>\n",
       "      <td>75719.14</td>\n",
       "      <td>1</td>\n",
       "    </tr>\n",
       "    <tr>\n",
       "      <th>1</th>\n",
       "      <td>146556</td>\n",
       "      <td>861.0</td>\n",
       "      <td>Рыбинск</td>\n",
       "      <td>Ж</td>\n",
       "      <td>37.0</td>\n",
       "      <td>5</td>\n",
       "      <td>850594.33</td>\n",
       "      <td>3</td>\n",
       "      <td>1</td>\n",
       "      <td>0</td>\n",
       "      <td>86621.77</td>\n",
       "      <td>0</td>\n",
       "    </tr>\n",
       "    <tr>\n",
       "      <th>2</th>\n",
       "      <td>120722</td>\n",
       "      <td>892.0</td>\n",
       "      <td>Рыбинск</td>\n",
       "      <td>Ж</td>\n",
       "      <td>30.0</td>\n",
       "      <td>0</td>\n",
       "      <td>NaN</td>\n",
       "      <td>1</td>\n",
       "      <td>1</td>\n",
       "      <td>1</td>\n",
       "      <td>107683.34</td>\n",
       "      <td>0</td>\n",
       "    </tr>\n",
       "    <tr>\n",
       "      <th>3</th>\n",
       "      <td>225363</td>\n",
       "      <td>866.0</td>\n",
       "      <td>Ярославль</td>\n",
       "      <td>Ж</td>\n",
       "      <td>51.0</td>\n",
       "      <td>5</td>\n",
       "      <td>1524746.26</td>\n",
       "      <td>2</td>\n",
       "      <td>0</td>\n",
       "      <td>1</td>\n",
       "      <td>174423.53</td>\n",
       "      <td>1</td>\n",
       "    </tr>\n",
       "    <tr>\n",
       "      <th>4</th>\n",
       "      <td>157978</td>\n",
       "      <td>730.0</td>\n",
       "      <td>Ярославль</td>\n",
       "      <td>М</td>\n",
       "      <td>34.0</td>\n",
       "      <td>5</td>\n",
       "      <td>174.00</td>\n",
       "      <td>1</td>\n",
       "      <td>1</td>\n",
       "      <td>0</td>\n",
       "      <td>67353.16</td>\n",
       "      <td>1</td>\n",
       "    </tr>\n",
       "  </tbody>\n",
       "</table>\n",
       "</div>"
      ],
      "text/plain": [
       "   user_id  score       city gender   age  equity     balance  products  \\\n",
       "0   183012  850.0    Рыбинск      Ж  25.0       1    59214.82         2   \n",
       "1   146556  861.0    Рыбинск      Ж  37.0       5   850594.33         3   \n",
       "2   120722  892.0    Рыбинск      Ж  30.0       0         NaN         1   \n",
       "3   225363  866.0  Ярославль      Ж  51.0       5  1524746.26         2   \n",
       "4   157978  730.0  Ярославль      М  34.0       5      174.00         1   \n",
       "\n",
       "   credit_card  last_activity  est_salary  churn  \n",
       "0            0              1    75719.14      1  \n",
       "1            1              0    86621.77      0  \n",
       "2            1              1   107683.34      0  \n",
       "3            0              1   174423.53      1  \n",
       "4            1              0    67353.16      1  "
      ]
     },
     "execution_count": 7,
     "metadata": {},
     "output_type": "execute_result"
    }
   ],
   "source": [
    "# добавим \"_\" в название колонки \"userid\"\n",
    "\n",
    "data = data.rename(columns={'userid':'user_id'})\n",
    "data.head()"
   ]
  },
  {
   "cell_type": "markdown",
   "id": "cf043f88",
   "metadata": {},
   "source": [
    "### Кодирование категориальных переменных"
   ]
  },
  {
   "cell_type": "markdown",
   "id": "42caa62b",
   "metadata": {},
   "source": [
    "Для будущего корреляционного анализа необходимо преобразовать содержимое столбцов город и пол из качественных значений в количественные. Это можно сделать с помощью кодировки. \n",
    "\n",
    "Однако в дальнейшем анализе могут пригодиться и исходные столбцы с названиями городов и полом клиентов - оставим их."
   ]
  },
  {
   "cell_type": "code",
   "execution_count": 8,
   "id": "a1f2269d",
   "metadata": {
    "scrolled": true
   },
   "outputs": [
    {
     "data": {
      "text/html": [
       "<div>\n",
       "<style scoped>\n",
       "    .dataframe tbody tr th:only-of-type {\n",
       "        vertical-align: middle;\n",
       "    }\n",
       "\n",
       "    .dataframe tbody tr th {\n",
       "        vertical-align: top;\n",
       "    }\n",
       "\n",
       "    .dataframe thead th {\n",
       "        text-align: right;\n",
       "    }\n",
       "</style>\n",
       "<table border=\"1\" class=\"dataframe\">\n",
       "  <thead>\n",
       "    <tr style=\"text-align: right;\">\n",
       "      <th></th>\n",
       "      <th>user_id</th>\n",
       "      <th>score</th>\n",
       "      <th>city</th>\n",
       "      <th>gender</th>\n",
       "      <th>age</th>\n",
       "      <th>equity</th>\n",
       "      <th>balance</th>\n",
       "      <th>products</th>\n",
       "      <th>credit_card</th>\n",
       "      <th>last_activity</th>\n",
       "      <th>est_salary</th>\n",
       "      <th>churn</th>\n",
       "      <th>Ж</th>\n",
       "      <th>М</th>\n",
       "      <th>Ростов</th>\n",
       "      <th>Рыбинск</th>\n",
       "      <th>Ярославль</th>\n",
       "    </tr>\n",
       "  </thead>\n",
       "  <tbody>\n",
       "    <tr>\n",
       "      <th>0</th>\n",
       "      <td>183012</td>\n",
       "      <td>850.0</td>\n",
       "      <td>Рыбинск</td>\n",
       "      <td>Ж</td>\n",
       "      <td>25.0</td>\n",
       "      <td>1</td>\n",
       "      <td>59214.82</td>\n",
       "      <td>2</td>\n",
       "      <td>0</td>\n",
       "      <td>1</td>\n",
       "      <td>75719.14</td>\n",
       "      <td>1</td>\n",
       "      <td>1</td>\n",
       "      <td>0</td>\n",
       "      <td>0</td>\n",
       "      <td>1</td>\n",
       "      <td>0</td>\n",
       "    </tr>\n",
       "    <tr>\n",
       "      <th>1</th>\n",
       "      <td>146556</td>\n",
       "      <td>861.0</td>\n",
       "      <td>Рыбинск</td>\n",
       "      <td>Ж</td>\n",
       "      <td>37.0</td>\n",
       "      <td>5</td>\n",
       "      <td>850594.33</td>\n",
       "      <td>3</td>\n",
       "      <td>1</td>\n",
       "      <td>0</td>\n",
       "      <td>86621.77</td>\n",
       "      <td>0</td>\n",
       "      <td>1</td>\n",
       "      <td>0</td>\n",
       "      <td>0</td>\n",
       "      <td>1</td>\n",
       "      <td>0</td>\n",
       "    </tr>\n",
       "    <tr>\n",
       "      <th>2</th>\n",
       "      <td>120722</td>\n",
       "      <td>892.0</td>\n",
       "      <td>Рыбинск</td>\n",
       "      <td>Ж</td>\n",
       "      <td>30.0</td>\n",
       "      <td>0</td>\n",
       "      <td>NaN</td>\n",
       "      <td>1</td>\n",
       "      <td>1</td>\n",
       "      <td>1</td>\n",
       "      <td>107683.34</td>\n",
       "      <td>0</td>\n",
       "      <td>1</td>\n",
       "      <td>0</td>\n",
       "      <td>0</td>\n",
       "      <td>1</td>\n",
       "      <td>0</td>\n",
       "    </tr>\n",
       "    <tr>\n",
       "      <th>3</th>\n",
       "      <td>225363</td>\n",
       "      <td>866.0</td>\n",
       "      <td>Ярославль</td>\n",
       "      <td>Ж</td>\n",
       "      <td>51.0</td>\n",
       "      <td>5</td>\n",
       "      <td>1524746.26</td>\n",
       "      <td>2</td>\n",
       "      <td>0</td>\n",
       "      <td>1</td>\n",
       "      <td>174423.53</td>\n",
       "      <td>1</td>\n",
       "      <td>1</td>\n",
       "      <td>0</td>\n",
       "      <td>0</td>\n",
       "      <td>0</td>\n",
       "      <td>1</td>\n",
       "    </tr>\n",
       "    <tr>\n",
       "      <th>4</th>\n",
       "      <td>157978</td>\n",
       "      <td>730.0</td>\n",
       "      <td>Ярославль</td>\n",
       "      <td>М</td>\n",
       "      <td>34.0</td>\n",
       "      <td>5</td>\n",
       "      <td>174.00</td>\n",
       "      <td>1</td>\n",
       "      <td>1</td>\n",
       "      <td>0</td>\n",
       "      <td>67353.16</td>\n",
       "      <td>1</td>\n",
       "      <td>0</td>\n",
       "      <td>1</td>\n",
       "      <td>0</td>\n",
       "      <td>0</td>\n",
       "      <td>1</td>\n",
       "    </tr>\n",
       "  </tbody>\n",
       "</table>\n",
       "</div>"
      ],
      "text/plain": [
       "   user_id  score       city gender   age  equity     balance  products  \\\n",
       "0   183012  850.0    Рыбинск      Ж  25.0       1    59214.82         2   \n",
       "1   146556  861.0    Рыбинск      Ж  37.0       5   850594.33         3   \n",
       "2   120722  892.0    Рыбинск      Ж  30.0       0         NaN         1   \n",
       "3   225363  866.0  Ярославль      Ж  51.0       5  1524746.26         2   \n",
       "4   157978  730.0  Ярославль      М  34.0       5      174.00         1   \n",
       "\n",
       "   credit_card  last_activity  est_salary  churn  Ж  М  Ростов  Рыбинск  \\\n",
       "0            0              1    75719.14      1  1  0       0        1   \n",
       "1            1              0    86621.77      0  1  0       0        1   \n",
       "2            1              1   107683.34      0  1  0       0        1   \n",
       "3            0              1   174423.53      1  1  0       0        0   \n",
       "4            1              0    67353.16      1  0  1       0        0   \n",
       "\n",
       "   Ярославль  \n",
       "0          0  \n",
       "1          0  \n",
       "2          0  \n",
       "3          1  \n",
       "4          1  "
      ]
     },
     "execution_count": 8,
     "metadata": {},
     "output_type": "execute_result"
    }
   ],
   "source": [
    "try:\n",
    "    dummies = pd.get_dummies(data, \n",
    "                         columns=['gender', 'city'], \n",
    "                         prefix='', \n",
    "                         prefix_sep='')[['Ж', 'М', 'Ростов', 'Рыбинск', 'Ярославль']]\n",
    "    data = data.join(dummies)\n",
    "except:\n",
    "    pass\n",
    "\n",
    "data.head()"
   ]
  },
  {
   "cell_type": "markdown",
   "id": "e214bfc5",
   "metadata": {},
   "source": [
    "### Обработка пропусков"
   ]
  },
  {
   "cell_type": "markdown",
   "id": "9d817e6b",
   "metadata": {},
   "source": [
    "Пропуски сожержатся в 2 столбцах данных - баланс на счете и возраст. Причем пропусков в поле возраст только 0,26% - удалим эти пропуски, это не исказит данные."
   ]
  },
  {
   "cell_type": "code",
   "execution_count": 9,
   "id": "be59c06c",
   "metadata": {},
   "outputs": [
    {
     "data": {
      "text/html": [
       "<style type=\"text/css\">\n",
       "#T_fef7c_row0_col0, #T_fef7c_row1_col0, #T_fef7c_row2_col0, #T_fef7c_row3_col0, #T_fef7c_row5_col0, #T_fef7c_row7_col0, #T_fef7c_row8_col0, #T_fef7c_row9_col0, #T_fef7c_row10_col0, #T_fef7c_row11_col0, #T_fef7c_row12_col0, #T_fef7c_row13_col0, #T_fef7c_row14_col0, #T_fef7c_row15_col0, #T_fef7c_row16_col0 {\n",
       "  background-color: #3b4cc0;\n",
       "  color: #f1f1f1;\n",
       "}\n",
       "#T_fef7c_row4_col0 {\n",
       "  background-color: #3d50c3;\n",
       "  color: #f1f1f1;\n",
       "}\n",
       "#T_fef7c_row6_col0 {\n",
       "  background-color: #b40426;\n",
       "  color: #f1f1f1;\n",
       "}\n",
       "</style>\n",
       "<table id=\"T_fef7c\">\n",
       "  <thead>\n",
       "    <tr>\n",
       "      <th class=\"blank level0\" >&nbsp;</th>\n",
       "      <th id=\"T_fef7c_level0_col0\" class=\"col_heading level0 col0\" >na_count</th>\n",
       "    </tr>\n",
       "  </thead>\n",
       "  <tbody>\n",
       "    <tr>\n",
       "      <th id=\"T_fef7c_level0_row0\" class=\"row_heading level0 row0\" >user_id</th>\n",
       "      <td id=\"T_fef7c_row0_col0\" class=\"data row0 col0\" >0.000000</td>\n",
       "    </tr>\n",
       "    <tr>\n",
       "      <th id=\"T_fef7c_level0_row1\" class=\"row_heading level0 row1\" >score</th>\n",
       "      <td id=\"T_fef7c_row1_col0\" class=\"data row1 col0\" >0.000000</td>\n",
       "    </tr>\n",
       "    <tr>\n",
       "      <th id=\"T_fef7c_level0_row2\" class=\"row_heading level0 row2\" >city</th>\n",
       "      <td id=\"T_fef7c_row2_col0\" class=\"data row2 col0\" >0.000000</td>\n",
       "    </tr>\n",
       "    <tr>\n",
       "      <th id=\"T_fef7c_level0_row3\" class=\"row_heading level0 row3\" >gender</th>\n",
       "      <td id=\"T_fef7c_row3_col0\" class=\"data row3 col0\" >0.000000</td>\n",
       "    </tr>\n",
       "    <tr>\n",
       "      <th id=\"T_fef7c_level0_row4\" class=\"row_heading level0 row4\" >age</th>\n",
       "      <td id=\"T_fef7c_row4_col0\" class=\"data row4 col0\" >0.260678</td>\n",
       "    </tr>\n",
       "    <tr>\n",
       "      <th id=\"T_fef7c_level0_row5\" class=\"row_heading level0 row5\" >equity</th>\n",
       "      <td id=\"T_fef7c_row5_col0\" class=\"data row5 col0\" >0.000000</td>\n",
       "    </tr>\n",
       "    <tr>\n",
       "      <th id=\"T_fef7c_level0_row6\" class=\"row_heading level0 row6\" >balance</th>\n",
       "      <td id=\"T_fef7c_row6_col0\" class=\"data row6 col0\" >29.785853</td>\n",
       "    </tr>\n",
       "    <tr>\n",
       "      <th id=\"T_fef7c_level0_row7\" class=\"row_heading level0 row7\" >products</th>\n",
       "      <td id=\"T_fef7c_row7_col0\" class=\"data row7 col0\" >0.000000</td>\n",
       "    </tr>\n",
       "    <tr>\n",
       "      <th id=\"T_fef7c_level0_row8\" class=\"row_heading level0 row8\" >credit_card</th>\n",
       "      <td id=\"T_fef7c_row8_col0\" class=\"data row8 col0\" >0.000000</td>\n",
       "    </tr>\n",
       "    <tr>\n",
       "      <th id=\"T_fef7c_level0_row9\" class=\"row_heading level0 row9\" >last_activity</th>\n",
       "      <td id=\"T_fef7c_row9_col0\" class=\"data row9 col0\" >0.000000</td>\n",
       "    </tr>\n",
       "    <tr>\n",
       "      <th id=\"T_fef7c_level0_row10\" class=\"row_heading level0 row10\" >est_salary</th>\n",
       "      <td id=\"T_fef7c_row10_col0\" class=\"data row10 col0\" >0.000000</td>\n",
       "    </tr>\n",
       "    <tr>\n",
       "      <th id=\"T_fef7c_level0_row11\" class=\"row_heading level0 row11\" >churn</th>\n",
       "      <td id=\"T_fef7c_row11_col0\" class=\"data row11 col0\" >0.000000</td>\n",
       "    </tr>\n",
       "    <tr>\n",
       "      <th id=\"T_fef7c_level0_row12\" class=\"row_heading level0 row12\" >Ж</th>\n",
       "      <td id=\"T_fef7c_row12_col0\" class=\"data row12 col0\" >0.000000</td>\n",
       "    </tr>\n",
       "    <tr>\n",
       "      <th id=\"T_fef7c_level0_row13\" class=\"row_heading level0 row13\" >М</th>\n",
       "      <td id=\"T_fef7c_row13_col0\" class=\"data row13 col0\" >0.000000</td>\n",
       "    </tr>\n",
       "    <tr>\n",
       "      <th id=\"T_fef7c_level0_row14\" class=\"row_heading level0 row14\" >Ростов</th>\n",
       "      <td id=\"T_fef7c_row14_col0\" class=\"data row14 col0\" >0.000000</td>\n",
       "    </tr>\n",
       "    <tr>\n",
       "      <th id=\"T_fef7c_level0_row15\" class=\"row_heading level0 row15\" >Рыбинск</th>\n",
       "      <td id=\"T_fef7c_row15_col0\" class=\"data row15 col0\" >0.000000</td>\n",
       "    </tr>\n",
       "    <tr>\n",
       "      <th id=\"T_fef7c_level0_row16\" class=\"row_heading level0 row16\" >Ярославль</th>\n",
       "      <td id=\"T_fef7c_row16_col0\" class=\"data row16 col0\" >0.000000</td>\n",
       "    </tr>\n",
       "  </tbody>\n",
       "</table>\n"
      ],
      "text/plain": [
       "<pandas.io.formats.style.Styler at 0x27ec1cc8820>"
      ]
     },
     "execution_count": 9,
     "metadata": {},
     "output_type": "execute_result"
    }
   ],
   "source": [
    "pd.DataFrame(data.isna().sum()/data.count()*100, columns=['na_count']).style.background_gradient('coolwarm')"
   ]
  },
  {
   "cell_type": "code",
   "execution_count": 10,
   "id": "e85ebe4b",
   "metadata": {},
   "outputs": [
    {
     "data": {
      "text/html": [
       "<div>\n",
       "<style scoped>\n",
       "    .dataframe tbody tr th:only-of-type {\n",
       "        vertical-align: middle;\n",
       "    }\n",
       "\n",
       "    .dataframe tbody tr th {\n",
       "        vertical-align: top;\n",
       "    }\n",
       "\n",
       "    .dataframe thead th {\n",
       "        text-align: right;\n",
       "    }\n",
       "</style>\n",
       "<table border=\"1\" class=\"dataframe\">\n",
       "  <thead>\n",
       "    <tr style=\"text-align: right;\">\n",
       "      <th></th>\n",
       "      <th>user_id</th>\n",
       "      <th>score</th>\n",
       "      <th>city</th>\n",
       "      <th>gender</th>\n",
       "      <th>age</th>\n",
       "      <th>equity</th>\n",
       "      <th>balance</th>\n",
       "      <th>products</th>\n",
       "      <th>credit_card</th>\n",
       "      <th>last_activity</th>\n",
       "      <th>est_salary</th>\n",
       "      <th>churn</th>\n",
       "      <th>Ж</th>\n",
       "      <th>М</th>\n",
       "      <th>Ростов</th>\n",
       "      <th>Рыбинск</th>\n",
       "      <th>Ярославль</th>\n",
       "    </tr>\n",
       "  </thead>\n",
       "  <tbody>\n",
       "    <tr>\n",
       "      <th>0</th>\n",
       "      <td>183012</td>\n",
       "      <td>850.0</td>\n",
       "      <td>Рыбинск</td>\n",
       "      <td>Ж</td>\n",
       "      <td>25.0</td>\n",
       "      <td>1</td>\n",
       "      <td>59214.82</td>\n",
       "      <td>2</td>\n",
       "      <td>0</td>\n",
       "      <td>1</td>\n",
       "      <td>75719.14</td>\n",
       "      <td>1</td>\n",
       "      <td>1</td>\n",
       "      <td>0</td>\n",
       "      <td>0</td>\n",
       "      <td>1</td>\n",
       "      <td>0</td>\n",
       "    </tr>\n",
       "    <tr>\n",
       "      <th>1</th>\n",
       "      <td>146556</td>\n",
       "      <td>861.0</td>\n",
       "      <td>Рыбинск</td>\n",
       "      <td>Ж</td>\n",
       "      <td>37.0</td>\n",
       "      <td>5</td>\n",
       "      <td>850594.33</td>\n",
       "      <td>3</td>\n",
       "      <td>1</td>\n",
       "      <td>0</td>\n",
       "      <td>86621.77</td>\n",
       "      <td>0</td>\n",
       "      <td>1</td>\n",
       "      <td>0</td>\n",
       "      <td>0</td>\n",
       "      <td>1</td>\n",
       "      <td>0</td>\n",
       "    </tr>\n",
       "    <tr>\n",
       "      <th>2</th>\n",
       "      <td>120722</td>\n",
       "      <td>892.0</td>\n",
       "      <td>Рыбинск</td>\n",
       "      <td>Ж</td>\n",
       "      <td>30.0</td>\n",
       "      <td>0</td>\n",
       "      <td>NaN</td>\n",
       "      <td>1</td>\n",
       "      <td>1</td>\n",
       "      <td>1</td>\n",
       "      <td>107683.34</td>\n",
       "      <td>0</td>\n",
       "      <td>1</td>\n",
       "      <td>0</td>\n",
       "      <td>0</td>\n",
       "      <td>1</td>\n",
       "      <td>0</td>\n",
       "    </tr>\n",
       "    <tr>\n",
       "      <th>3</th>\n",
       "      <td>225363</td>\n",
       "      <td>866.0</td>\n",
       "      <td>Ярославль</td>\n",
       "      <td>Ж</td>\n",
       "      <td>51.0</td>\n",
       "      <td>5</td>\n",
       "      <td>1524746.26</td>\n",
       "      <td>2</td>\n",
       "      <td>0</td>\n",
       "      <td>1</td>\n",
       "      <td>174423.53</td>\n",
       "      <td>1</td>\n",
       "      <td>1</td>\n",
       "      <td>0</td>\n",
       "      <td>0</td>\n",
       "      <td>0</td>\n",
       "      <td>1</td>\n",
       "    </tr>\n",
       "    <tr>\n",
       "      <th>4</th>\n",
       "      <td>157978</td>\n",
       "      <td>730.0</td>\n",
       "      <td>Ярославль</td>\n",
       "      <td>М</td>\n",
       "      <td>34.0</td>\n",
       "      <td>5</td>\n",
       "      <td>174.00</td>\n",
       "      <td>1</td>\n",
       "      <td>1</td>\n",
       "      <td>0</td>\n",
       "      <td>67353.16</td>\n",
       "      <td>1</td>\n",
       "      <td>0</td>\n",
       "      <td>1</td>\n",
       "      <td>0</td>\n",
       "      <td>0</td>\n",
       "      <td>1</td>\n",
       "    </tr>\n",
       "  </tbody>\n",
       "</table>\n",
       "</div>"
      ],
      "text/plain": [
       "   user_id  score       city gender   age  equity     balance  products  \\\n",
       "0   183012  850.0    Рыбинск      Ж  25.0       1    59214.82         2   \n",
       "1   146556  861.0    Рыбинск      Ж  37.0       5   850594.33         3   \n",
       "2   120722  892.0    Рыбинск      Ж  30.0       0         NaN         1   \n",
       "3   225363  866.0  Ярославль      Ж  51.0       5  1524746.26         2   \n",
       "4   157978  730.0  Ярославль      М  34.0       5      174.00         1   \n",
       "\n",
       "   credit_card  last_activity  est_salary  churn  Ж  М  Ростов  Рыбинск  \\\n",
       "0            0              1    75719.14      1  1  0       0        1   \n",
       "1            1              0    86621.77      0  1  0       0        1   \n",
       "2            1              1   107683.34      0  1  0       0        1   \n",
       "3            0              1   174423.53      1  1  0       0        0   \n",
       "4            1              0    67353.16      1  0  1       0        0   \n",
       "\n",
       "   Ярославль  \n",
       "0          0  \n",
       "1          0  \n",
       "2          0  \n",
       "3          1  \n",
       "4          1  "
      ]
     },
     "execution_count": 10,
     "metadata": {},
     "output_type": "execute_result"
    }
   ],
   "source": [
    "# удаление пропусков в столбце \"age\"\n",
    "\n",
    "data = data.dropna(subset=['age']).reset_index(drop=True)\n",
    "data.head()"
   ]
  },
  {
   "cell_type": "markdown",
   "id": "156ac410",
   "metadata": {},
   "source": [
    "Столбец с балансом на счетах не заполнен почти на 30%. Выясним, какова природа этих пропусков.\n",
    "\n",
    "Для начала создадим поле-индикатор заполненности столбца баланса: 1 - если столбец заполнен, 0 - если не заполнен."
   ]
  },
  {
   "cell_type": "code",
   "execution_count": 11,
   "id": "66ac945c",
   "metadata": {},
   "outputs": [
    {
     "data": {
      "text/html": [
       "<div>\n",
       "<style scoped>\n",
       "    .dataframe tbody tr th:only-of-type {\n",
       "        vertical-align: middle;\n",
       "    }\n",
       "\n",
       "    .dataframe tbody tr th {\n",
       "        vertical-align: top;\n",
       "    }\n",
       "\n",
       "    .dataframe thead th {\n",
       "        text-align: right;\n",
       "    }\n",
       "</style>\n",
       "<table border=\"1\" class=\"dataframe\">\n",
       "  <thead>\n",
       "    <tr style=\"text-align: right;\">\n",
       "      <th></th>\n",
       "      <th>user_id</th>\n",
       "      <th>score</th>\n",
       "      <th>city</th>\n",
       "      <th>gender</th>\n",
       "      <th>age</th>\n",
       "      <th>equity</th>\n",
       "      <th>balance</th>\n",
       "      <th>products</th>\n",
       "      <th>credit_card</th>\n",
       "      <th>last_activity</th>\n",
       "      <th>est_salary</th>\n",
       "      <th>churn</th>\n",
       "      <th>Ж</th>\n",
       "      <th>М</th>\n",
       "      <th>Ростов</th>\n",
       "      <th>Рыбинск</th>\n",
       "      <th>Ярославль</th>\n",
       "      <th>balance_ind</th>\n",
       "    </tr>\n",
       "  </thead>\n",
       "  <tbody>\n",
       "    <tr>\n",
       "      <th>0</th>\n",
       "      <td>183012</td>\n",
       "      <td>850.0</td>\n",
       "      <td>Рыбинск</td>\n",
       "      <td>Ж</td>\n",
       "      <td>25.0</td>\n",
       "      <td>1</td>\n",
       "      <td>59214.82</td>\n",
       "      <td>2</td>\n",
       "      <td>0</td>\n",
       "      <td>1</td>\n",
       "      <td>75719.14</td>\n",
       "      <td>1</td>\n",
       "      <td>1</td>\n",
       "      <td>0</td>\n",
       "      <td>0</td>\n",
       "      <td>1</td>\n",
       "      <td>0</td>\n",
       "      <td>1</td>\n",
       "    </tr>\n",
       "    <tr>\n",
       "      <th>1</th>\n",
       "      <td>146556</td>\n",
       "      <td>861.0</td>\n",
       "      <td>Рыбинск</td>\n",
       "      <td>Ж</td>\n",
       "      <td>37.0</td>\n",
       "      <td>5</td>\n",
       "      <td>850594.33</td>\n",
       "      <td>3</td>\n",
       "      <td>1</td>\n",
       "      <td>0</td>\n",
       "      <td>86621.77</td>\n",
       "      <td>0</td>\n",
       "      <td>1</td>\n",
       "      <td>0</td>\n",
       "      <td>0</td>\n",
       "      <td>1</td>\n",
       "      <td>0</td>\n",
       "      <td>1</td>\n",
       "    </tr>\n",
       "    <tr>\n",
       "      <th>2</th>\n",
       "      <td>120722</td>\n",
       "      <td>892.0</td>\n",
       "      <td>Рыбинск</td>\n",
       "      <td>Ж</td>\n",
       "      <td>30.0</td>\n",
       "      <td>0</td>\n",
       "      <td>NaN</td>\n",
       "      <td>1</td>\n",
       "      <td>1</td>\n",
       "      <td>1</td>\n",
       "      <td>107683.34</td>\n",
       "      <td>0</td>\n",
       "      <td>1</td>\n",
       "      <td>0</td>\n",
       "      <td>0</td>\n",
       "      <td>1</td>\n",
       "      <td>0</td>\n",
       "      <td>0</td>\n",
       "    </tr>\n",
       "    <tr>\n",
       "      <th>3</th>\n",
       "      <td>225363</td>\n",
       "      <td>866.0</td>\n",
       "      <td>Ярославль</td>\n",
       "      <td>Ж</td>\n",
       "      <td>51.0</td>\n",
       "      <td>5</td>\n",
       "      <td>1524746.26</td>\n",
       "      <td>2</td>\n",
       "      <td>0</td>\n",
       "      <td>1</td>\n",
       "      <td>174423.53</td>\n",
       "      <td>1</td>\n",
       "      <td>1</td>\n",
       "      <td>0</td>\n",
       "      <td>0</td>\n",
       "      <td>0</td>\n",
       "      <td>1</td>\n",
       "      <td>1</td>\n",
       "    </tr>\n",
       "    <tr>\n",
       "      <th>4</th>\n",
       "      <td>157978</td>\n",
       "      <td>730.0</td>\n",
       "      <td>Ярославль</td>\n",
       "      <td>М</td>\n",
       "      <td>34.0</td>\n",
       "      <td>5</td>\n",
       "      <td>174.00</td>\n",
       "      <td>1</td>\n",
       "      <td>1</td>\n",
       "      <td>0</td>\n",
       "      <td>67353.16</td>\n",
       "      <td>1</td>\n",
       "      <td>0</td>\n",
       "      <td>1</td>\n",
       "      <td>0</td>\n",
       "      <td>0</td>\n",
       "      <td>1</td>\n",
       "      <td>1</td>\n",
       "    </tr>\n",
       "    <tr>\n",
       "      <th>5</th>\n",
       "      <td>202305</td>\n",
       "      <td>856.0</td>\n",
       "      <td>Рыбинск</td>\n",
       "      <td>М</td>\n",
       "      <td>56.0</td>\n",
       "      <td>4</td>\n",
       "      <td>863687.24</td>\n",
       "      <td>3</td>\n",
       "      <td>1</td>\n",
       "      <td>0</td>\n",
       "      <td>156619.80</td>\n",
       "      <td>0</td>\n",
       "      <td>0</td>\n",
       "      <td>1</td>\n",
       "      <td>0</td>\n",
       "      <td>1</td>\n",
       "      <td>0</td>\n",
       "      <td>1</td>\n",
       "    </tr>\n",
       "    <tr>\n",
       "      <th>6</th>\n",
       "      <td>177259</td>\n",
       "      <td>807.0</td>\n",
       "      <td>Ярославль</td>\n",
       "      <td>Ж</td>\n",
       "      <td>39.0</td>\n",
       "      <td>3</td>\n",
       "      <td>405042.44</td>\n",
       "      <td>3</td>\n",
       "      <td>0</td>\n",
       "      <td>1</td>\n",
       "      <td>103838.32</td>\n",
       "      <td>0</td>\n",
       "      <td>1</td>\n",
       "      <td>0</td>\n",
       "      <td>0</td>\n",
       "      <td>0</td>\n",
       "      <td>1</td>\n",
       "      <td>1</td>\n",
       "    </tr>\n",
       "    <tr>\n",
       "      <th>7</th>\n",
       "      <td>218868</td>\n",
       "      <td>825.0</td>\n",
       "      <td>Ярославль</td>\n",
       "      <td>Ж</td>\n",
       "      <td>38.0</td>\n",
       "      <td>4</td>\n",
       "      <td>458145.40</td>\n",
       "      <td>2</td>\n",
       "      <td>1</td>\n",
       "      <td>1</td>\n",
       "      <td>68085.48</td>\n",
       "      <td>0</td>\n",
       "      <td>1</td>\n",
       "      <td>0</td>\n",
       "      <td>0</td>\n",
       "      <td>0</td>\n",
       "      <td>1</td>\n",
       "      <td>1</td>\n",
       "    </tr>\n",
       "    <tr>\n",
       "      <th>8</th>\n",
       "      <td>211686</td>\n",
       "      <td>923.0</td>\n",
       "      <td>Ярославль</td>\n",
       "      <td>М</td>\n",
       "      <td>54.0</td>\n",
       "      <td>5</td>\n",
       "      <td>1206337.87</td>\n",
       "      <td>2</td>\n",
       "      <td>1</td>\n",
       "      <td>0</td>\n",
       "      <td>155371.79</td>\n",
       "      <td>0</td>\n",
       "      <td>0</td>\n",
       "      <td>1</td>\n",
       "      <td>0</td>\n",
       "      <td>0</td>\n",
       "      <td>1</td>\n",
       "      <td>1</td>\n",
       "    </tr>\n",
       "    <tr>\n",
       "      <th>9</th>\n",
       "      <td>133130</td>\n",
       "      <td>906.0</td>\n",
       "      <td>Ярославль</td>\n",
       "      <td>Ж</td>\n",
       "      <td>67.0</td>\n",
       "      <td>0</td>\n",
       "      <td>NaN</td>\n",
       "      <td>1</td>\n",
       "      <td>0</td>\n",
       "      <td>1</td>\n",
       "      <td>238055.53</td>\n",
       "      <td>0</td>\n",
       "      <td>1</td>\n",
       "      <td>0</td>\n",
       "      <td>0</td>\n",
       "      <td>0</td>\n",
       "      <td>1</td>\n",
       "      <td>0</td>\n",
       "    </tr>\n",
       "  </tbody>\n",
       "</table>\n",
       "</div>"
      ],
      "text/plain": [
       "   user_id  score       city gender   age  equity     balance  products  \\\n",
       "0   183012  850.0    Рыбинск      Ж  25.0       1    59214.82         2   \n",
       "1   146556  861.0    Рыбинск      Ж  37.0       5   850594.33         3   \n",
       "2   120722  892.0    Рыбинск      Ж  30.0       0         NaN         1   \n",
       "3   225363  866.0  Ярославль      Ж  51.0       5  1524746.26         2   \n",
       "4   157978  730.0  Ярославль      М  34.0       5      174.00         1   \n",
       "5   202305  856.0    Рыбинск      М  56.0       4   863687.24         3   \n",
       "6   177259  807.0  Ярославль      Ж  39.0       3   405042.44         3   \n",
       "7   218868  825.0  Ярославль      Ж  38.0       4   458145.40         2   \n",
       "8   211686  923.0  Ярославль      М  54.0       5  1206337.87         2   \n",
       "9   133130  906.0  Ярославль      Ж  67.0       0         NaN         1   \n",
       "\n",
       "   credit_card  last_activity  est_salary  churn  Ж  М  Ростов  Рыбинск  \\\n",
       "0            0              1    75719.14      1  1  0       0        1   \n",
       "1            1              0    86621.77      0  1  0       0        1   \n",
       "2            1              1   107683.34      0  1  0       0        1   \n",
       "3            0              1   174423.53      1  1  0       0        0   \n",
       "4            1              0    67353.16      1  0  1       0        0   \n",
       "5            1              0   156619.80      0  0  1       0        1   \n",
       "6            0              1   103838.32      0  1  0       0        0   \n",
       "7            1              1    68085.48      0  1  0       0        0   \n",
       "8            1              0   155371.79      0  0  1       0        0   \n",
       "9            0              1   238055.53      0  1  0       0        0   \n",
       "\n",
       "   Ярославль  balance_ind  \n",
       "0          0            1  \n",
       "1          0            1  \n",
       "2          0            0  \n",
       "3          1            1  \n",
       "4          1            1  \n",
       "5          0            1  \n",
       "6          1            1  \n",
       "7          1            1  \n",
       "8          1            1  \n",
       "9          1            0  "
      ]
     },
     "execution_count": 11,
     "metadata": {},
     "output_type": "execute_result"
    }
   ],
   "source": [
    "data['balance_ind'] = 1\n",
    "data.loc[data['balance'].isna(), 'balance_ind'] = 0\n",
    "data.head(10)"
   ]
  },
  {
   "cell_type": "code",
   "execution_count": 12,
   "id": "a22b88ea",
   "metadata": {},
   "outputs": [
    {
     "data": {
      "image/png": "[encoded data removed]",
      "text/plain": [
       "<Figure size 1440x720 with 2 Axes>"
      ]
     },
     "metadata": {
      "needs_background": "light"
     },
     "output_type": "display_data"
    }
   ],
   "source": [
    "# тепловая карта корреляции между значениями датасета\n",
    "\n",
    "plt.figure(figsize=(20, 10))\n",
    "sns.heatmap(data.loc[:, ~data.columns.isin(['user_id', 'city', 'gender'])].corr()*100, \n",
    "            annot=True, \n",
    "            fmt='.3g', \n",
    "            cmap='coolwarm',\n",
    "            center=0, \n",
    "            robust=True\n",
    "            )\n",
    "plt.title('График зависимостей')\n",
    "plt.show()"
   ]
  },
  {
   "cell_type": "markdown",
   "id": "a5147300",
   "metadata": {},
   "source": [
    "Заметим довольно сильные взаимосвязи между полем-иникатором заполненности столбца баланса и количеством баллов собственности (70.9% - высокая связь) и количеством продуктов, которыми пользуется клиент (48.6% - слабая связь). Таким образом, можно сделать вывод, что присутствующие в столбце пропуски не случайны (MNAR) и зависят от данных, поэтому их нельзя удалять или заполнять другими значениями: это исказит датасет.\n",
    "\n",
    "Аналогичные результаты показывает и сводная таблица ниже. Различия в количественных дискретных данных наблюдаются именно по вышеописанным столбцам. "
   ]
  },
  {
   "cell_type": "code",
   "execution_count": 13,
   "id": "43ff654c",
   "metadata": {},
   "outputs": [
    {
     "data": {
      "text/html": [
       "<div>\n",
       "<style scoped>\n",
       "    .dataframe tbody tr th:only-of-type {\n",
       "        vertical-align: middle;\n",
       "    }\n",
       "\n",
       "    .dataframe tbody tr th {\n",
       "        vertical-align: top;\n",
       "    }\n",
       "\n",
       "    .dataframe thead th {\n",
       "        text-align: right;\n",
       "    }\n",
       "</style>\n",
       "<table border=\"1\" class=\"dataframe\">\n",
       "  <thead>\n",
       "    <tr style=\"text-align: right;\">\n",
       "      <th></th>\n",
       "      <th>Баланс пропущен</th>\n",
       "      <th>Баланс заполнен</th>\n",
       "      <th>Разница</th>\n",
       "    </tr>\n",
       "  </thead>\n",
       "  <tbody>\n",
       "    <tr>\n",
       "      <th>churn</th>\n",
       "      <td>0</td>\n",
       "      <td>0</td>\n",
       "      <td>0</td>\n",
       "    </tr>\n",
       "    <tr>\n",
       "      <th>credit_card</th>\n",
       "      <td>1</td>\n",
       "      <td>1</td>\n",
       "      <td>0</td>\n",
       "    </tr>\n",
       "    <tr>\n",
       "      <th>equity</th>\n",
       "      <td>0</td>\n",
       "      <td>4</td>\n",
       "      <td>-4</td>\n",
       "    </tr>\n",
       "    <tr>\n",
       "      <th>last_activity</th>\n",
       "      <td>1</td>\n",
       "      <td>1</td>\n",
       "      <td>0</td>\n",
       "    </tr>\n",
       "    <tr>\n",
       "      <th>products</th>\n",
       "      <td>1</td>\n",
       "      <td>2</td>\n",
       "      <td>-1</td>\n",
       "    </tr>\n",
       "  </tbody>\n",
       "</table>\n",
       "</div>"
      ],
      "text/plain": [
       "               Баланс пропущен  Баланс заполнен  Разница\n",
       "churn                        0                0        0\n",
       "credit_card                  1                1        0\n",
       "equity                       0                4       -4\n",
       "last_activity                1                1        0\n",
       "products                     1                2       -1"
      ]
     },
     "execution_count": 13,
     "metadata": {},
     "output_type": "execute_result"
    }
   ],
   "source": [
    "# расчет медианных значений дискретных показателей по 2 группам данных: с пропущенным балансом и с заполненным\n",
    "\n",
    "discrete_pivot = data.pivot_table(index='balance_ind',\n",
    "                                  values=['equity', 'products', 'credit_card', 'last_activity', 'churn'],\n",
    "                                  aggfunc='median').T\n",
    "discrete_pivot.columns = ['Баланс пропущен','Баланс заполнен']\n",
    "discrete_pivot['Разница'] = discrete_pivot['Баланс пропущен'] - discrete_pivot['Баланс заполнен']\n",
    "discrete_pivot"
   ]
  },
  {
   "cell_type": "markdown",
   "id": "a8d6559f",
   "metadata": {},
   "source": [
    "### Преобразование типов данных"
   ]
  },
  {
   "cell_type": "code",
   "execution_count": 14,
   "id": "59950d54",
   "metadata": {},
   "outputs": [],
   "source": [
    "# В целях использования меньшего объема памяти заменим тип данных float64 в поле \"age\" на int32\n",
    "\n",
    "data['age'] = data['age'].astype('int32')"
   ]
  },
  {
   "cell_type": "markdown",
   "id": "67cb1bb8",
   "metadata": {},
   "source": [
    "### Проверка на дубликаты"
   ]
  },
  {
   "cell_type": "markdown",
   "id": "81b3c5f6",
   "metadata": {},
   "source": [
    "Проверим датасет на наличие неявных дубликатов по столбцу \"user_id\"."
   ]
  },
  {
   "cell_type": "code",
   "execution_count": 15,
   "id": "79a9bbec",
   "metadata": {},
   "outputs": [
    {
     "data": {
      "text/html": [
       "<div>\n",
       "<style scoped>\n",
       "    .dataframe tbody tr th:only-of-type {\n",
       "        vertical-align: middle;\n",
       "    }\n",
       "\n",
       "    .dataframe tbody tr th {\n",
       "        vertical-align: top;\n",
       "    }\n",
       "\n",
       "    .dataframe thead th {\n",
       "        text-align: right;\n",
       "    }\n",
       "</style>\n",
       "<table border=\"1\" class=\"dataframe\">\n",
       "  <thead>\n",
       "    <tr style=\"text-align: right;\">\n",
       "      <th></th>\n",
       "      <th>user_id</th>\n",
       "      <th>score</th>\n",
       "      <th>city</th>\n",
       "      <th>gender</th>\n",
       "      <th>age</th>\n",
       "      <th>equity</th>\n",
       "      <th>balance</th>\n",
       "      <th>products</th>\n",
       "      <th>credit_card</th>\n",
       "      <th>last_activity</th>\n",
       "      <th>est_salary</th>\n",
       "      <th>churn</th>\n",
       "      <th>Ж</th>\n",
       "      <th>М</th>\n",
       "      <th>Ростов</th>\n",
       "      <th>Рыбинск</th>\n",
       "      <th>Ярославль</th>\n",
       "      <th>balance_ind</th>\n",
       "    </tr>\n",
       "  </thead>\n",
       "  <tbody>\n",
       "    <tr>\n",
       "      <th>1892</th>\n",
       "      <td>116540</td>\n",
       "      <td>883.0</td>\n",
       "      <td>Рыбинск</td>\n",
       "      <td>Ж</td>\n",
       "      <td>55</td>\n",
       "      <td>1</td>\n",
       "      <td>362756.49</td>\n",
       "      <td>3</td>\n",
       "      <td>0</td>\n",
       "      <td>1</td>\n",
       "      <td>175920.48</td>\n",
       "      <td>1</td>\n",
       "      <td>1</td>\n",
       "      <td>0</td>\n",
       "      <td>0</td>\n",
       "      <td>1</td>\n",
       "      <td>0</td>\n",
       "      <td>1</td>\n",
       "    </tr>\n",
       "    <tr>\n",
       "      <th>7683</th>\n",
       "      <td>116540</td>\n",
       "      <td>887.0</td>\n",
       "      <td>Ярославль</td>\n",
       "      <td>Ж</td>\n",
       "      <td>38</td>\n",
       "      <td>0</td>\n",
       "      <td>NaN</td>\n",
       "      <td>1</td>\n",
       "      <td>0</td>\n",
       "      <td>1</td>\n",
       "      <td>119247.61</td>\n",
       "      <td>0</td>\n",
       "      <td>1</td>\n",
       "      <td>0</td>\n",
       "      <td>0</td>\n",
       "      <td>0</td>\n",
       "      <td>1</td>\n",
       "      <td>0</td>\n",
       "    </tr>\n",
       "    <tr>\n",
       "      <th>4862</th>\n",
       "      <td>117943</td>\n",
       "      <td>855.0</td>\n",
       "      <td>Рыбинск</td>\n",
       "      <td>Ж</td>\n",
       "      <td>32</td>\n",
       "      <td>6</td>\n",
       "      <td>1036832.93</td>\n",
       "      <td>4</td>\n",
       "      <td>1</td>\n",
       "      <td>1</td>\n",
       "      <td>107792.71</td>\n",
       "      <td>1</td>\n",
       "      <td>1</td>\n",
       "      <td>0</td>\n",
       "      <td>0</td>\n",
       "      <td>1</td>\n",
       "      <td>0</td>\n",
       "      <td>1</td>\n",
       "    </tr>\n",
       "    <tr>\n",
       "      <th>7531</th>\n",
       "      <td>117943</td>\n",
       "      <td>880.0</td>\n",
       "      <td>Ярославль</td>\n",
       "      <td>Ж</td>\n",
       "      <td>40</td>\n",
       "      <td>0</td>\n",
       "      <td>NaN</td>\n",
       "      <td>1</td>\n",
       "      <td>1</td>\n",
       "      <td>0</td>\n",
       "      <td>137718.93</td>\n",
       "      <td>0</td>\n",
       "      <td>1</td>\n",
       "      <td>0</td>\n",
       "      <td>0</td>\n",
       "      <td>0</td>\n",
       "      <td>1</td>\n",
       "      <td>0</td>\n",
       "    </tr>\n",
       "    <tr>\n",
       "      <th>5856</th>\n",
       "      <td>120258</td>\n",
       "      <td>908.0</td>\n",
       "      <td>Рыбинск</td>\n",
       "      <td>Ж</td>\n",
       "      <td>38</td>\n",
       "      <td>4</td>\n",
       "      <td>2213581.63</td>\n",
       "      <td>2</td>\n",
       "      <td>0</td>\n",
       "      <td>1</td>\n",
       "      <td>160327.77</td>\n",
       "      <td>1</td>\n",
       "      <td>1</td>\n",
       "      <td>0</td>\n",
       "      <td>0</td>\n",
       "      <td>1</td>\n",
       "      <td>0</td>\n",
       "      <td>1</td>\n",
       "    </tr>\n",
       "    <tr>\n",
       "      <th>5889</th>\n",
       "      <td>120258</td>\n",
       "      <td>905.0</td>\n",
       "      <td>Ярославль</td>\n",
       "      <td>М</td>\n",
       "      <td>30</td>\n",
       "      <td>0</td>\n",
       "      <td>NaN</td>\n",
       "      <td>1</td>\n",
       "      <td>1</td>\n",
       "      <td>1</td>\n",
       "      <td>146427.96</td>\n",
       "      <td>0</td>\n",
       "      <td>0</td>\n",
       "      <td>1</td>\n",
       "      <td>0</td>\n",
       "      <td>0</td>\n",
       "      <td>1</td>\n",
       "      <td>0</td>\n",
       "    </tr>\n",
       "    <tr>\n",
       "      <th>1410</th>\n",
       "      <td>123461</td>\n",
       "      <td>829.0</td>\n",
       "      <td>Ярославль</td>\n",
       "      <td>Ж</td>\n",
       "      <td>59</td>\n",
       "      <td>0</td>\n",
       "      <td>96222.44</td>\n",
       "      <td>2</td>\n",
       "      <td>0</td>\n",
       "      <td>1</td>\n",
       "      <td>102771.55</td>\n",
       "      <td>1</td>\n",
       "      <td>1</td>\n",
       "      <td>0</td>\n",
       "      <td>0</td>\n",
       "      <td>0</td>\n",
       "      <td>1</td>\n",
       "      <td>1</td>\n",
       "    </tr>\n",
       "    <tr>\n",
       "      <th>8621</th>\n",
       "      <td>123461</td>\n",
       "      <td>934.0</td>\n",
       "      <td>Рыбинск</td>\n",
       "      <td>М</td>\n",
       "      <td>34</td>\n",
       "      <td>0</td>\n",
       "      <td>NaN</td>\n",
       "      <td>2</td>\n",
       "      <td>1</td>\n",
       "      <td>0</td>\n",
       "      <td>291619.27</td>\n",
       "      <td>0</td>\n",
       "      <td>0</td>\n",
       "      <td>1</td>\n",
       "      <td>0</td>\n",
       "      <td>1</td>\n",
       "      <td>0</td>\n",
       "      <td>0</td>\n",
       "    </tr>\n",
       "    <tr>\n",
       "      <th>9750</th>\n",
       "      <td>124450</td>\n",
       "      <td>758.0</td>\n",
       "      <td>Рыбинск</td>\n",
       "      <td>Ж</td>\n",
       "      <td>36</td>\n",
       "      <td>0</td>\n",
       "      <td>73574.07</td>\n",
       "      <td>2</td>\n",
       "      <td>0</td>\n",
       "      <td>1</td>\n",
       "      <td>79963.59</td>\n",
       "      <td>0</td>\n",
       "      <td>1</td>\n",
       "      <td>0</td>\n",
       "      <td>0</td>\n",
       "      <td>1</td>\n",
       "      <td>0</td>\n",
       "      <td>1</td>\n",
       "    </tr>\n",
       "    <tr>\n",
       "      <th>8151</th>\n",
       "      <td>124450</td>\n",
       "      <td>859.0</td>\n",
       "      <td>Ярославль</td>\n",
       "      <td>Ж</td>\n",
       "      <td>38</td>\n",
       "      <td>6</td>\n",
       "      <td>516811.20</td>\n",
       "      <td>1</td>\n",
       "      <td>1</td>\n",
       "      <td>1</td>\n",
       "      <td>95144.63</td>\n",
       "      <td>1</td>\n",
       "      <td>1</td>\n",
       "      <td>0</td>\n",
       "      <td>0</td>\n",
       "      <td>0</td>\n",
       "      <td>1</td>\n",
       "      <td>1</td>\n",
       "    </tr>\n",
       "    <tr>\n",
       "      <th>4846</th>\n",
       "      <td>126368</td>\n",
       "      <td>909.0</td>\n",
       "      <td>Ярославль</td>\n",
       "      <td>Ж</td>\n",
       "      <td>30</td>\n",
       "      <td>4</td>\n",
       "      <td>1322623.29</td>\n",
       "      <td>2</td>\n",
       "      <td>0</td>\n",
       "      <td>1</td>\n",
       "      <td>140675.66</td>\n",
       "      <td>1</td>\n",
       "      <td>1</td>\n",
       "      <td>0</td>\n",
       "      <td>0</td>\n",
       "      <td>0</td>\n",
       "      <td>1</td>\n",
       "      <td>1</td>\n",
       "    </tr>\n",
       "    <tr>\n",
       "      <th>5415</th>\n",
       "      <td>126368</td>\n",
       "      <td>832.0</td>\n",
       "      <td>Рыбинск</td>\n",
       "      <td>Ж</td>\n",
       "      <td>33</td>\n",
       "      <td>0</td>\n",
       "      <td>NaN</td>\n",
       "      <td>1</td>\n",
       "      <td>0</td>\n",
       "      <td>0</td>\n",
       "      <td>118465.34</td>\n",
       "      <td>0</td>\n",
       "      <td>1</td>\n",
       "      <td>0</td>\n",
       "      <td>0</td>\n",
       "      <td>1</td>\n",
       "      <td>0</td>\n",
       "      <td>0</td>\n",
       "    </tr>\n",
       "    <tr>\n",
       "      <th>3984</th>\n",
       "      <td>129785</td>\n",
       "      <td>904.0</td>\n",
       "      <td>Рыбинск</td>\n",
       "      <td>М</td>\n",
       "      <td>33</td>\n",
       "      <td>5</td>\n",
       "      <td>2427737.60</td>\n",
       "      <td>3</td>\n",
       "      <td>0</td>\n",
       "      <td>1</td>\n",
       "      <td>188856.75</td>\n",
       "      <td>1</td>\n",
       "      <td>0</td>\n",
       "      <td>1</td>\n",
       "      <td>0</td>\n",
       "      <td>1</td>\n",
       "      <td>0</td>\n",
       "      <td>1</td>\n",
       "    </tr>\n",
       "    <tr>\n",
       "      <th>9482</th>\n",
       "      <td>129785</td>\n",
       "      <td>949.0</td>\n",
       "      <td>Ярославль</td>\n",
       "      <td>М</td>\n",
       "      <td>43</td>\n",
       "      <td>0</td>\n",
       "      <td>NaN</td>\n",
       "      <td>1</td>\n",
       "      <td>1</td>\n",
       "      <td>1</td>\n",
       "      <td>166845.37</td>\n",
       "      <td>0</td>\n",
       "      <td>0</td>\n",
       "      <td>1</td>\n",
       "      <td>0</td>\n",
       "      <td>0</td>\n",
       "      <td>1</td>\n",
       "      <td>0</td>\n",
       "    </tr>\n",
       "    <tr>\n",
       "      <th>2137</th>\n",
       "      <td>131419</td>\n",
       "      <td>739.0</td>\n",
       "      <td>Рыбинск</td>\n",
       "      <td>Ж</td>\n",
       "      <td>37</td>\n",
       "      <td>3</td>\n",
       "      <td>1307941.65</td>\n",
       "      <td>3</td>\n",
       "      <td>0</td>\n",
       "      <td>0</td>\n",
       "      <td>103867.47</td>\n",
       "      <td>0</td>\n",
       "      <td>1</td>\n",
       "      <td>0</td>\n",
       "      <td>0</td>\n",
       "      <td>1</td>\n",
       "      <td>0</td>\n",
       "      <td>1</td>\n",
       "    </tr>\n",
       "    <tr>\n",
       "      <th>904</th>\n",
       "      <td>131419</td>\n",
       "      <td>934.0</td>\n",
       "      <td>Ярославль</td>\n",
       "      <td>М</td>\n",
       "      <td>35</td>\n",
       "      <td>5</td>\n",
       "      <td>2348335.95</td>\n",
       "      <td>2</td>\n",
       "      <td>0</td>\n",
       "      <td>0</td>\n",
       "      <td>217105.13</td>\n",
       "      <td>1</td>\n",
       "      <td>0</td>\n",
       "      <td>1</td>\n",
       "      <td>0</td>\n",
       "      <td>0</td>\n",
       "      <td>1</td>\n",
       "      <td>1</td>\n",
       "    </tr>\n",
       "    <tr>\n",
       "      <th>1607</th>\n",
       "      <td>140377</td>\n",
       "      <td>802.0</td>\n",
       "      <td>Ярославль</td>\n",
       "      <td>М</td>\n",
       "      <td>26</td>\n",
       "      <td>3</td>\n",
       "      <td>539863.29</td>\n",
       "      <td>4</td>\n",
       "      <td>1</td>\n",
       "      <td>1</td>\n",
       "      <td>112167.83</td>\n",
       "      <td>1</td>\n",
       "      <td>0</td>\n",
       "      <td>1</td>\n",
       "      <td>0</td>\n",
       "      <td>0</td>\n",
       "      <td>1</td>\n",
       "      <td>1</td>\n",
       "    </tr>\n",
       "    <tr>\n",
       "      <th>7476</th>\n",
       "      <td>140377</td>\n",
       "      <td>930.0</td>\n",
       "      <td>Рыбинск</td>\n",
       "      <td>Ж</td>\n",
       "      <td>34</td>\n",
       "      <td>5</td>\n",
       "      <td>1123967.02</td>\n",
       "      <td>1</td>\n",
       "      <td>1</td>\n",
       "      <td>1</td>\n",
       "      <td>148336.26</td>\n",
       "      <td>0</td>\n",
       "      <td>1</td>\n",
       "      <td>0</td>\n",
       "      <td>0</td>\n",
       "      <td>1</td>\n",
       "      <td>0</td>\n",
       "      <td>1</td>\n",
       "    </tr>\n",
       "    <tr>\n",
       "      <th>2274</th>\n",
       "      <td>141265</td>\n",
       "      <td>858.0</td>\n",
       "      <td>Ярославль</td>\n",
       "      <td>М</td>\n",
       "      <td>37</td>\n",
       "      <td>4</td>\n",
       "      <td>471599.16</td>\n",
       "      <td>2</td>\n",
       "      <td>1</td>\n",
       "      <td>1</td>\n",
       "      <td>148806.88</td>\n",
       "      <td>1</td>\n",
       "      <td>0</td>\n",
       "      <td>1</td>\n",
       "      <td>0</td>\n",
       "      <td>0</td>\n",
       "      <td>1</td>\n",
       "      <td>1</td>\n",
       "    </tr>\n",
       "    <tr>\n",
       "      <th>5562</th>\n",
       "      <td>141265</td>\n",
       "      <td>811.0</td>\n",
       "      <td>Рыбинск</td>\n",
       "      <td>Ж</td>\n",
       "      <td>33</td>\n",
       "      <td>3</td>\n",
       "      <td>1044316.88</td>\n",
       "      <td>2</td>\n",
       "      <td>1</td>\n",
       "      <td>0</td>\n",
       "      <td>46055.32</td>\n",
       "      <td>0</td>\n",
       "      <td>1</td>\n",
       "      <td>0</td>\n",
       "      <td>0</td>\n",
       "      <td>1</td>\n",
       "      <td>0</td>\n",
       "      <td>1</td>\n",
       "    </tr>\n",
       "  </tbody>\n",
       "</table>\n",
       "</div>"
      ],
      "text/plain": [
       "      user_id  score       city gender  age  equity     balance  products  \\\n",
       "1892   116540  883.0    Рыбинск      Ж   55       1   362756.49         3   \n",
       "7683   116540  887.0  Ярославль      Ж   38       0         NaN         1   \n",
       "4862   117943  855.0    Рыбинск      Ж   32       6  1036832.93         4   \n",
       "7531   117943  880.0  Ярославль      Ж   40       0         NaN         1   \n",
       "5856   120258  908.0    Рыбинск      Ж   38       4  2213581.63         2   \n",
       "5889   120258  905.0  Ярославль      М   30       0         NaN         1   \n",
       "1410   123461  829.0  Ярославль      Ж   59       0    96222.44         2   \n",
       "8621   123461  934.0    Рыбинск      М   34       0         NaN         2   \n",
       "9750   124450  758.0    Рыбинск      Ж   36       0    73574.07         2   \n",
       "8151   124450  859.0  Ярославль      Ж   38       6   516811.20         1   \n",
       "4846   126368  909.0  Ярославль      Ж   30       4  1322623.29         2   \n",
       "5415   126368  832.0    Рыбинск      Ж   33       0         NaN         1   \n",
       "3984   129785  904.0    Рыбинск      М   33       5  2427737.60         3   \n",
       "9482   129785  949.0  Ярославль      М   43       0         NaN         1   \n",
       "2137   131419  739.0    Рыбинск      Ж   37       3  1307941.65         3   \n",
       "904    131419  934.0  Ярославль      М   35       5  2348335.95         2   \n",
       "1607   140377  802.0  Ярославль      М   26       3   539863.29         4   \n",
       "7476   140377  930.0    Рыбинск      Ж   34       5  1123967.02         1   \n",
       "2274   141265  858.0  Ярославль      М   37       4   471599.16         2   \n",
       "5562   141265  811.0    Рыбинск      Ж   33       3  1044316.88         2   \n",
       "\n",
       "      credit_card  last_activity  est_salary  churn  Ж  М  Ростов  Рыбинск  \\\n",
       "1892            0              1   175920.48      1  1  0       0        1   \n",
       "7683            0              1   119247.61      0  1  0       0        0   \n",
       "4862            1              1   107792.71      1  1  0       0        1   \n",
       "7531            1              0   137718.93      0  1  0       0        0   \n",
       "5856            0              1   160327.77      1  1  0       0        1   \n",
       "5889            1              1   146427.96      0  0  1       0        0   \n",
       "1410            0              1   102771.55      1  1  0       0        0   \n",
       "8621            1              0   291619.27      0  0  1       0        1   \n",
       "9750            0              1    79963.59      0  1  0       0        1   \n",
       "8151            1              1    95144.63      1  1  0       0        0   \n",
       "4846            0              1   140675.66      1  1  0       0        0   \n",
       "5415            0              0   118465.34      0  1  0       0        1   \n",
       "3984            0              1   188856.75      1  0  1       0        1   \n",
       "9482            1              1   166845.37      0  0  1       0        0   \n",
       "2137            0              0   103867.47      0  1  0       0        1   \n",
       "904             0              0   217105.13      1  0  1       0        0   \n",
       "1607            1              1   112167.83      1  0  1       0        0   \n",
       "7476            1              1   148336.26      0  1  0       0        1   \n",
       "2274            1              1   148806.88      1  0  1       0        0   \n",
       "5562            1              0    46055.32      0  1  0       0        1   \n",
       "\n",
       "      Ярославль  balance_ind  \n",
       "1892          0            1  \n",
       "7683          1            0  \n",
       "4862          0            1  \n",
       "7531          1            0  \n",
       "5856          0            1  \n",
       "5889          1            0  \n",
       "1410          1            1  \n",
       "8621          0            0  \n",
       "9750          0            1  \n",
       "8151          1            1  \n",
       "4846          1            1  \n",
       "5415          0            0  \n",
       "3984          0            1  \n",
       "9482          1            0  \n",
       "2137          0            1  \n",
       "904           1            1  \n",
       "1607          1            1  \n",
       "7476          0            1  \n",
       "2274          1            1  \n",
       "5562          0            1  "
      ]
     },
     "execution_count": 15,
     "metadata": {},
     "output_type": "execute_result"
    }
   ],
   "source": [
    "data.loc[data['user_id'].duplicated(keep=False)].sort_values(by='user_id').head(20)"
   ]
  },
  {
   "cell_type": "markdown",
   "id": "decfffc5",
   "metadata": {},
   "source": [
    "Заметим, что строки с одинаковыми user_id содержат информацию о разных клиентах: это видно при сопоставлении информации, например, в полях город и пол. Такие строки нельзя ни полностью, ни частично удалять - так мы потеряем часть качественных данных."
   ]
  },
  {
   "cell_type": "markdown",
   "id": "c780f978",
   "metadata": {},
   "source": [
    "Что касается столбца user_id, он не пригодится в дальнейшем анализе, поэтому принято решение удалить его."
   ]
  },
  {
   "cell_type": "code",
   "execution_count": 16,
   "id": "88c65b0f",
   "metadata": {},
   "outputs": [],
   "source": [
    "try:\n",
    "    data = data.drop(columns=['user_id'])\n",
    "except:\n",
    "    pass"
   ]
  },
  {
   "cell_type": "markdown",
   "id": "9bf8f646",
   "metadata": {},
   "source": [
    "__Промежуточный вывод:__\n",
    "\n",
    "Исходные данные не были подготовлены для дальнейшего анализа и нуждались в некоторой обработке. Данные содержали в себе пропуски, часть которых была удалена, но другая часть оставлена, так как эти пропуски были признаны неслучайными. Некоторые столбцы были переименованы для удобства использования. Для облегчения датасета вещественный тип данных столбца возраст был преобразован в целочисленный. Для будущего корреляционного анализа качественные величины - город и пол - были закодированы. Данные не содержали явных дубликатов, а неявные дубликаты (повторы в поле user_id) содержали информацию о разных клиентах, поэтому были оставлены в датасете."
   ]
  },
  {
   "cell_type": "markdown",
   "id": "32cab423",
   "metadata": {},
   "source": [
    "## EDA (Exploratory Data Analysis)"
   ]
  },
  {
   "cell_type": "markdown",
   "id": "ae88b823",
   "metadata": {},
   "source": [
    "### Анализ распределения признаков"
   ]
  },
  {
   "cell_type": "markdown",
   "id": "77149bee",
   "metadata": {},
   "source": [
    "Для анализа распределения признаков в разрезе оттока и их влияния на отток необходимо разделить переменные на непрерывные и дискретные, так как они требуют разных подходов к анализу."
   ]
  },
  {
   "cell_type": "code",
   "execution_count": 17,
   "id": "d24ab682",
   "metadata": {},
   "outputs": [
    {
     "data": {
      "text/html": [
       "<div>\n",
       "<style scoped>\n",
       "    .dataframe tbody tr th:only-of-type {\n",
       "        vertical-align: middle;\n",
       "    }\n",
       "\n",
       "    .dataframe tbody tr th {\n",
       "        vertical-align: top;\n",
       "    }\n",
       "\n",
       "    .dataframe thead th {\n",
       "        text-align: right;\n",
       "    }\n",
       "</style>\n",
       "<table border=\"1\" class=\"dataframe\">\n",
       "  <thead>\n",
       "    <tr style=\"text-align: right;\">\n",
       "      <th></th>\n",
       "      <th>churn</th>\n",
       "      <th>age</th>\n",
       "      <th>score</th>\n",
       "      <th>balance</th>\n",
       "      <th>est_salary</th>\n",
       "    </tr>\n",
       "  </thead>\n",
       "  <tbody>\n",
       "    <tr>\n",
       "      <th>0</th>\n",
       "      <td>1</td>\n",
       "      <td>25</td>\n",
       "      <td>850.0</td>\n",
       "      <td>59214.82</td>\n",
       "      <td>75719.14</td>\n",
       "    </tr>\n",
       "    <tr>\n",
       "      <th>1</th>\n",
       "      <td>0</td>\n",
       "      <td>37</td>\n",
       "      <td>861.0</td>\n",
       "      <td>850594.33</td>\n",
       "      <td>86621.77</td>\n",
       "    </tr>\n",
       "    <tr>\n",
       "      <th>2</th>\n",
       "      <td>0</td>\n",
       "      <td>30</td>\n",
       "      <td>892.0</td>\n",
       "      <td>NaN</td>\n",
       "      <td>107683.34</td>\n",
       "    </tr>\n",
       "    <tr>\n",
       "      <th>3</th>\n",
       "      <td>1</td>\n",
       "      <td>51</td>\n",
       "      <td>866.0</td>\n",
       "      <td>1524746.26</td>\n",
       "      <td>174423.53</td>\n",
       "    </tr>\n",
       "    <tr>\n",
       "      <th>4</th>\n",
       "      <td>1</td>\n",
       "      <td>34</td>\n",
       "      <td>730.0</td>\n",
       "      <td>174.00</td>\n",
       "      <td>67353.16</td>\n",
       "    </tr>\n",
       "  </tbody>\n",
       "</table>\n",
       "</div>"
      ],
      "text/plain": [
       "   churn  age  score     balance  est_salary\n",
       "0      1   25  850.0    59214.82    75719.14\n",
       "1      0   37  861.0   850594.33    86621.77\n",
       "2      0   30  892.0         NaN   107683.34\n",
       "3      1   51  866.0  1524746.26   174423.53\n",
       "4      1   34  730.0      174.00    67353.16"
      ]
     },
     "metadata": {},
     "output_type": "display_data"
    },
    {
     "data": {
      "text/html": [
       "<div>\n",
       "<style scoped>\n",
       "    .dataframe tbody tr th:only-of-type {\n",
       "        vertical-align: middle;\n",
       "    }\n",
       "\n",
       "    .dataframe tbody tr th {\n",
       "        vertical-align: top;\n",
       "    }\n",
       "\n",
       "    .dataframe thead th {\n",
       "        text-align: right;\n",
       "    }\n",
       "</style>\n",
       "<table border=\"1\" class=\"dataframe\">\n",
       "  <thead>\n",
       "    <tr style=\"text-align: right;\">\n",
       "      <th></th>\n",
       "      <th>churn</th>\n",
       "      <th>equity</th>\n",
       "      <th>products</th>\n",
       "      <th>credit_card</th>\n",
       "      <th>last_activity</th>\n",
       "      <th>Ж</th>\n",
       "      <th>М</th>\n",
       "      <th>Ростов</th>\n",
       "      <th>Рыбинск</th>\n",
       "      <th>Ярославль</th>\n",
       "      <th>balance_ind</th>\n",
       "    </tr>\n",
       "  </thead>\n",
       "  <tbody>\n",
       "    <tr>\n",
       "      <th>0</th>\n",
       "      <td>1</td>\n",
       "      <td>1</td>\n",
       "      <td>2</td>\n",
       "      <td>0</td>\n",
       "      <td>1</td>\n",
       "      <td>1</td>\n",
       "      <td>0</td>\n",
       "      <td>0</td>\n",
       "      <td>1</td>\n",
       "      <td>0</td>\n",
       "      <td>1</td>\n",
       "    </tr>\n",
       "    <tr>\n",
       "      <th>1</th>\n",
       "      <td>0</td>\n",
       "      <td>5</td>\n",
       "      <td>3</td>\n",
       "      <td>1</td>\n",
       "      <td>0</td>\n",
       "      <td>1</td>\n",
       "      <td>0</td>\n",
       "      <td>0</td>\n",
       "      <td>1</td>\n",
       "      <td>0</td>\n",
       "      <td>1</td>\n",
       "    </tr>\n",
       "    <tr>\n",
       "      <th>2</th>\n",
       "      <td>0</td>\n",
       "      <td>0</td>\n",
       "      <td>1</td>\n",
       "      <td>1</td>\n",
       "      <td>1</td>\n",
       "      <td>1</td>\n",
       "      <td>0</td>\n",
       "      <td>0</td>\n",
       "      <td>1</td>\n",
       "      <td>0</td>\n",
       "      <td>0</td>\n",
       "    </tr>\n",
       "    <tr>\n",
       "      <th>3</th>\n",
       "      <td>1</td>\n",
       "      <td>5</td>\n",
       "      <td>2</td>\n",
       "      <td>0</td>\n",
       "      <td>1</td>\n",
       "      <td>1</td>\n",
       "      <td>0</td>\n",
       "      <td>0</td>\n",
       "      <td>0</td>\n",
       "      <td>1</td>\n",
       "      <td>1</td>\n",
       "    </tr>\n",
       "    <tr>\n",
       "      <th>4</th>\n",
       "      <td>1</td>\n",
       "      <td>5</td>\n",
       "      <td>1</td>\n",
       "      <td>1</td>\n",
       "      <td>0</td>\n",
       "      <td>0</td>\n",
       "      <td>1</td>\n",
       "      <td>0</td>\n",
       "      <td>0</td>\n",
       "      <td>1</td>\n",
       "      <td>1</td>\n",
       "    </tr>\n",
       "  </tbody>\n",
       "</table>\n",
       "</div>"
      ],
      "text/plain": [
       "   churn  equity  products  credit_card  last_activity  Ж  М  Ростов  Рыбинск  \\\n",
       "0      1       1         2            0              1  1  0       0        1   \n",
       "1      0       5         3            1              0  1  0       0        1   \n",
       "2      0       0         1            1              1  1  0       0        1   \n",
       "3      1       5         2            0              1  1  0       0        0   \n",
       "4      1       5         1            1              0  0  1       0        0   \n",
       "\n",
       "   Ярославль  balance_ind  \n",
       "0          0            1  \n",
       "1          0            1  \n",
       "2          0            0  \n",
       "3          1            1  \n",
       "4          1            1  "
      ]
     },
     "execution_count": 17,
     "metadata": {},
     "output_type": "execute_result"
    }
   ],
   "source": [
    "# Разделение датасета на 2 в зависимости от типа переменных (непрерывные и дискретные) признака\n",
    "\n",
    "data_cont = data[['churn', 'age', 'score', 'balance', 'est_salary']]\n",
    "\n",
    "data_discr = data[['churn', 'equity', 'products', 'credit_card', 'last_activity', 'Ж', 'М', 'Ростов', 'Рыбинск', 'Ярославль', 'balance_ind']]\n",
    "\n",
    "display(data_cont.head())\n",
    "data_discr.head()"
   ]
  },
  {
   "cell_type": "code",
   "execution_count": 18,
   "id": "a23c2ae6",
   "metadata": {
    "scrolled": false
   },
   "outputs": [
    {
     "data": {
      "image/png": "[encoded data removed]",
      "text/plain": [
       "<Figure size 936x720 with 4 Axes>"
      ]
     },
     "metadata": {
      "needs_background": "light"
     },
     "output_type": "display_data"
    }
   ],
   "source": [
    "# Визуализируем распределение непрерывных данных, сгруппировав их по факту оттока,\n",
    "# и выделим интервалы, на которых отток выше лояльности\n",
    "\n",
    "figure, ((ax1, ax2), (ax3, ax4)) = plt.subplots(nrows=2, ncols=2, figsize=(13, 10))\n",
    "\n",
    "ax1 = sns.histplot(data_cont, \n",
    "              x=data_cont['age'], \n",
    "              hue=data_cont['churn'],\n",
    "              stat='density', \n",
    "              common_norm=False,\n",
    "              binwidth=1,\n",
    "              ax=ax1)\n",
    "\n",
    "ax2 = sns.histplot(data_cont, \n",
    "              x=data_cont['score'], \n",
    "              hue=data_cont['churn'],\n",
    "              stat='density', \n",
    "              common_norm=False, \n",
    "              bins=70,                   \n",
    "              ax=ax2)\n",
    "\n",
    "ax3 = sns.histplot(data_cont, \n",
    "              x=data_cont['est_salary']/1000000, \n",
    "              hue=data_cont['churn'],\n",
    "              stat='density', \n",
    "              common_norm=False, \n",
    "              ax=ax3)\n",
    "ax3.set_xlim(0, 0.5)\n",
    "\n",
    "ax4 = sns.histplot(data_cont, \n",
    "              x=data_cont['balance']/1000000, \n",
    "              hue=data_cont['churn'],\n",
    "              stat='density', \n",
    "              common_norm=False,\n",
    "              ax=ax4)\n",
    "ax4.set_xlim(0, 4)\n",
    "\n",
    "figure.tight_layout()\n",
    "plt.show()"
   ]
  },
  {
   "cell_type": "markdown",
   "id": "b0b8844f",
   "metadata": {},
   "source": [
    "- На графике распределения по возрасту выделяются две группы клиентов, отток которых выше лояльности: 25 - 37 лет и 50 - 61 лет.\n",
    "- По распределению скоринговых оценок отток превышает лояльность по клиентам с баллами от 820 до 910 и от 920 до 940.\n",
    "- На графике оценочного дохода клиентов можно заметить, что отточность начинает превалировать над лояльностью с размера дохода около 70 000 у.e. (0.07 млн), особенно на отрезке данных от 100 до 200 тыс. у.е. Можем сделать предварительный вывод о том, что люди с менее высоким доходом более лояльны к банку.\n",
    "- Аналогичная тенденция прослеживается и на графике распределения баланса на счете. Отток значительно превышает лояльность на интервале от 1 до 4 млн у.e."
   ]
  },
  {
   "cell_type": "code",
   "execution_count": 19,
   "id": "378bbc89",
   "metadata": {},
   "outputs": [
    {
     "data": {
      "image/png": "[encoded data removed]",
      "text/plain": [
       "<Figure size 864x1440 with 10 Axes>"
      ]
     },
     "metadata": {
      "needs_background": "light"
     },
     "output_type": "display_data"
    }
   ],
   "source": [
    "# Визуализируем дискретные величины, чтобы выяснить, какие из них наиболее склонны к оттоку\n",
    "\n",
    "figure, axes = plt.subplots(nrows=5, ncols=2, figsize=(12, 20))\n",
    "\n",
    "for index, column in enumerate(data_discr.drop(columns=['churn']).columns):\n",
    "    ax = axes.flatten()[index]\n",
    "    sns.barplot(x=data_discr[column], \n",
    "                y=data_discr['churn'],\n",
    "                color='lightblue', \n",
    "                ax=ax)\n",
    "\n",
    "    ax.axhline(data['churn'].mean(), \n",
    "               color='orange', \n",
    "               linestyle='--', \n",
    "               linewidth=2.5)\n",
    "    \n",
    "figure.tight_layout()     \n",
    "plt.show()"
   ]
  },
  {
   "cell_type": "markdown",
   "id": "daee5a1d",
   "metadata": {},
   "source": [
    "Кроме того, на графике по количеству банковских продуктов обнаружены клиенты с количеством продуктов, равным 0. Было выяснено, что такой клиент только один, и, вероятно, он попал в датасет случайно. Удалим эту запись."
   ]
  },
  {
   "cell_type": "code",
   "execution_count": 20,
   "id": "d92f0570",
   "metadata": {},
   "outputs": [
    {
     "data": {
      "text/html": [
       "<div>\n",
       "<style scoped>\n",
       "    .dataframe tbody tr th:only-of-type {\n",
       "        vertical-align: middle;\n",
       "    }\n",
       "\n",
       "    .dataframe tbody tr th {\n",
       "        vertical-align: top;\n",
       "    }\n",
       "\n",
       "    .dataframe thead th {\n",
       "        text-align: right;\n",
       "    }\n",
       "</style>\n",
       "<table border=\"1\" class=\"dataframe\">\n",
       "  <thead>\n",
       "    <tr style=\"text-align: right;\">\n",
       "      <th></th>\n",
       "      <th>score</th>\n",
       "      <th>city</th>\n",
       "      <th>gender</th>\n",
       "      <th>age</th>\n",
       "      <th>equity</th>\n",
       "      <th>balance</th>\n",
       "      <th>products</th>\n",
       "      <th>credit_card</th>\n",
       "      <th>last_activity</th>\n",
       "      <th>est_salary</th>\n",
       "      <th>churn</th>\n",
       "      <th>Ж</th>\n",
       "      <th>М</th>\n",
       "      <th>Ростов</th>\n",
       "      <th>Рыбинск</th>\n",
       "      <th>Ярославль</th>\n",
       "      <th>balance_ind</th>\n",
       "    </tr>\n",
       "  </thead>\n",
       "  <tbody>\n",
       "    <tr>\n",
       "      <th>8939</th>\n",
       "      <td>962.0</td>\n",
       "      <td>Рыбинск</td>\n",
       "      <td>Ж</td>\n",
       "      <td>79</td>\n",
       "      <td>3</td>\n",
       "      <td>NaN</td>\n",
       "      <td>0</td>\n",
       "      <td>0</td>\n",
       "      <td>0</td>\n",
       "      <td>25063.96</td>\n",
       "      <td>1</td>\n",
       "      <td>1</td>\n",
       "      <td>0</td>\n",
       "      <td>0</td>\n",
       "      <td>1</td>\n",
       "      <td>0</td>\n",
       "      <td>0</td>\n",
       "    </tr>\n",
       "  </tbody>\n",
       "</table>\n",
       "</div>"
      ],
      "text/plain": [
       "      score     city gender  age  equity  balance  products  credit_card  \\\n",
       "8939  962.0  Рыбинск      Ж   79       3      NaN         0            0   \n",
       "\n",
       "      last_activity  est_salary  churn  Ж  М  Ростов  Рыбинск  Ярославль  \\\n",
       "8939              0    25063.96      1  1  0       0        1          0   \n",
       "\n",
       "      balance_ind  \n",
       "8939            0  "
      ]
     },
     "execution_count": 20,
     "metadata": {},
     "output_type": "execute_result"
    }
   ],
   "source": [
    "data.loc[data['products']==0]"
   ]
  },
  {
   "cell_type": "code",
   "execution_count": 21,
   "id": "20c8e71b",
   "metadata": {},
   "outputs": [],
   "source": [
    "data=data.loc[data['products']!=0]"
   ]
  },
  {
   "cell_type": "markdown",
   "id": "7c141f99",
   "metadata": {},
   "source": [
    "Отток выше среднего по клиентам со следующими характеристиками:\n",
    "- баллы собственности клиента 3 и выше;\n",
    "- от 3 до 5 банковских продуктов;\n",
    "- отсутствие кредитной карты;\n",
    "- активность в последний месяц анализа клиента;\n",
    "- мужской пол;\n",
    "- город проживания Ростов или Ярославль;\n",
    "- по клиенту указан баланс."
   ]
  },
  {
   "cell_type": "markdown",
   "id": "b76a3e4e",
   "metadata": {},
   "source": [
    "### Анализ портретов клиентов"
   ]
  },
  {
   "cell_type": "code",
   "execution_count": 22,
   "id": "88458709",
   "metadata": {},
   "outputs": [],
   "source": [
    "# Для анализа мер центральной тенденции признаков разделим признаки на типы величин: непрерывные, дискретные и категориальные\n",
    "\n",
    "data_cont = data[['churn', 'age', 'score', 'balance', 'est_salary']]\n",
    "\n",
    "data_discr = data[['churn', 'equity', 'products', 'credit_card', 'last_activity']]\n",
    "\n",
    "data_cat = data[['churn', 'city', 'gender']]"
   ]
  },
  {
   "cell_type": "code",
   "execution_count": 23,
   "id": "f9af15ec",
   "metadata": {},
   "outputs": [
    {
     "data": {
      "text/html": [
       "<div>\n",
       "<style scoped>\n",
       "    .dataframe tbody tr th:only-of-type {\n",
       "        vertical-align: middle;\n",
       "    }\n",
       "\n",
       "    .dataframe tbody tr th {\n",
       "        vertical-align: top;\n",
       "    }\n",
       "\n",
       "    .dataframe thead th {\n",
       "        text-align: right;\n",
       "    }\n",
       "</style>\n",
       "<table border=\"1\" class=\"dataframe\">\n",
       "  <thead>\n",
       "    <tr style=\"text-align: right;\">\n",
       "      <th></th>\n",
       "      <th>Лояльность</th>\n",
       "      <th>Отток</th>\n",
       "      <th>Разница</th>\n",
       "    </tr>\n",
       "  </thead>\n",
       "  <tbody>\n",
       "    <tr>\n",
       "      <th>age</th>\n",
       "      <td>43.0</td>\n",
       "      <td>41.4</td>\n",
       "      <td>-3.720930</td>\n",
       "    </tr>\n",
       "    <tr>\n",
       "      <th>balance</th>\n",
       "      <td>733031.6</td>\n",
       "      <td>1134458.2</td>\n",
       "      <td>54.762523</td>\n",
       "    </tr>\n",
       "    <tr>\n",
       "      <th>est_salary</th>\n",
       "      <td>147674.6</td>\n",
       "      <td>148357.5</td>\n",
       "      <td>0.462436</td>\n",
       "    </tr>\n",
       "    <tr>\n",
       "      <th>score</th>\n",
       "      <td>845.4</td>\n",
       "      <td>863.4</td>\n",
       "      <td>2.129170</td>\n",
       "    </tr>\n",
       "  </tbody>\n",
       "</table>\n",
       "</div>"
      ],
      "text/plain": [
       "            Лояльность      Отток    Разница\n",
       "age               43.0       41.4  -3.720930\n",
       "balance       733031.6  1134458.2  54.762523\n",
       "est_salary    147674.6   148357.5   0.462436\n",
       "score            845.4      863.4   2.129170"
      ]
     },
     "execution_count": 23,
     "metadata": {},
     "output_type": "execute_result"
    }
   ],
   "source": [
    "# Расчет средних значений непрерывных показателей в зависимости от факта оттока\n",
    "\n",
    "cont_pivot = round(data_cont.pivot_table(index='churn',\n",
    "                                         values=data_cont.columns,\n",
    "                                         aggfunc='mean').T, 1)\n",
    "cont_pivot.columns = ['Лояльность', 'Отток']\n",
    "cont_pivot['Разница'] = (cont_pivot['Отток'] / cont_pivot['Лояльность'] - 1) * 100\n",
    "cont_pivot"
   ]
  },
  {
   "cell_type": "code",
   "execution_count": 24,
   "id": "13c046af",
   "metadata": {},
   "outputs": [
    {
     "data": {
      "text/html": [
       "<div>\n",
       "<style scoped>\n",
       "    .dataframe tbody tr th:only-of-type {\n",
       "        vertical-align: middle;\n",
       "    }\n",
       "\n",
       "    .dataframe tbody tr th {\n",
       "        vertical-align: top;\n",
       "    }\n",
       "\n",
       "    .dataframe thead th {\n",
       "        text-align: right;\n",
       "    }\n",
       "</style>\n",
       "<table border=\"1\" class=\"dataframe\">\n",
       "  <thead>\n",
       "    <tr style=\"text-align: right;\">\n",
       "      <th></th>\n",
       "      <th>Лояльность</th>\n",
       "      <th>Отток</th>\n",
       "      <th>Разница</th>\n",
       "    </tr>\n",
       "  </thead>\n",
       "  <tbody>\n",
       "    <tr>\n",
       "      <th>credit_card</th>\n",
       "      <td>1</td>\n",
       "      <td>1</td>\n",
       "      <td>0</td>\n",
       "    </tr>\n",
       "    <tr>\n",
       "      <th>equity</th>\n",
       "      <td>3</td>\n",
       "      <td>4</td>\n",
       "      <td>1</td>\n",
       "    </tr>\n",
       "    <tr>\n",
       "      <th>last_activity</th>\n",
       "      <td>0</td>\n",
       "      <td>1</td>\n",
       "      <td>1</td>\n",
       "    </tr>\n",
       "    <tr>\n",
       "      <th>products</th>\n",
       "      <td>2</td>\n",
       "      <td>2</td>\n",
       "      <td>0</td>\n",
       "    </tr>\n",
       "  </tbody>\n",
       "</table>\n",
       "</div>"
      ],
      "text/plain": [
       "               Лояльность  Отток  Разница\n",
       "credit_card             1      1        0\n",
       "equity                  3      4        1\n",
       "last_activity           0      1        1\n",
       "products                2      2        0"
      ]
     },
     "execution_count": 24,
     "metadata": {},
     "output_type": "execute_result"
    }
   ],
   "source": [
    "# Расчет медианных значений непрерывных показателей в зависимости от факта оттока\n",
    "\n",
    "discr_pivot = data_discr.pivot_table(index='churn',\n",
    "                                     values=data_discr.columns,\n",
    "                                     aggfunc='median').T\n",
    "discr_pivot.columns = ['Лояльность', 'Отток']\n",
    "discr_pivot['Разница'] = discr_pivot['Отток'] - discr_pivot['Лояльность']\n",
    "discr_pivot"
   ]
  },
  {
   "cell_type": "code",
   "execution_count": 25,
   "id": "545823db",
   "metadata": {},
   "outputs": [
    {
     "data": {
      "text/html": [
       "<div>\n",
       "<style scoped>\n",
       "    .dataframe tbody tr th:only-of-type {\n",
       "        vertical-align: middle;\n",
       "    }\n",
       "\n",
       "    .dataframe tbody tr th {\n",
       "        vertical-align: top;\n",
       "    }\n",
       "\n",
       "    .dataframe thead th {\n",
       "        text-align: right;\n",
       "    }\n",
       "</style>\n",
       "<table border=\"1\" class=\"dataframe\">\n",
       "  <thead>\n",
       "    <tr style=\"text-align: right;\">\n",
       "      <th></th>\n",
       "      <th>Лояльность</th>\n",
       "      <th>Отток</th>\n",
       "      <th>Разница</th>\n",
       "    </tr>\n",
       "  </thead>\n",
       "  <tbody>\n",
       "    <tr>\n",
       "      <th>city</th>\n",
       "      <td>Ярославль</td>\n",
       "      <td>Ярославль</td>\n",
       "      <td>-</td>\n",
       "    </tr>\n",
       "    <tr>\n",
       "      <th>gender</th>\n",
       "      <td>Ж</td>\n",
       "      <td>М</td>\n",
       "      <td>-</td>\n",
       "    </tr>\n",
       "  </tbody>\n",
       "</table>\n",
       "</div>"
      ],
      "text/plain": [
       "       Лояльность      Отток Разница\n",
       "city    Ярославль  Ярославль       -\n",
       "gender          Ж          М       -"
      ]
     },
     "execution_count": 25,
     "metadata": {},
     "output_type": "execute_result"
    }
   ],
   "source": [
    "# Расчет медианных значений непрерывных показателей в зависимости от факта оттока\n",
    "\n",
    "cat_pivot = data_cat.pivot_table(index='churn',\n",
    "                                     values=data_cat.columns,\n",
    "                                     aggfunc=lambda x: x.mode()).T\n",
    "cat_pivot.columns = ['Лояльность', 'Отток']\n",
    "cat_pivot['Разница'] = '-'\n",
    "cat_pivot"
   ]
  },
  {
   "cell_type": "code",
   "execution_count": 26,
   "id": "ee3f7583",
   "metadata": {},
   "outputs": [
    {
     "data": {
      "text/html": [
       "<div>\n",
       "<style scoped>\n",
       "    .dataframe tbody tr th:only-of-type {\n",
       "        vertical-align: middle;\n",
       "    }\n",
       "\n",
       "    .dataframe tbody tr th {\n",
       "        vertical-align: top;\n",
       "    }\n",
       "\n",
       "    .dataframe thead th {\n",
       "        text-align: right;\n",
       "    }\n",
       "</style>\n",
       "<table border=\"1\" class=\"dataframe\">\n",
       "  <thead>\n",
       "    <tr style=\"text-align: right;\">\n",
       "      <th></th>\n",
       "      <th></th>\n",
       "      <th>Лояльность</th>\n",
       "      <th>Отток</th>\n",
       "      <th>Разница</th>\n",
       "    </tr>\n",
       "  </thead>\n",
       "  <tbody>\n",
       "    <tr>\n",
       "      <th rowspan=\"4\" valign=\"top\">discr</th>\n",
       "      <th>age</th>\n",
       "      <td>43.0</td>\n",
       "      <td>41.4</td>\n",
       "      <td>-3.72093</td>\n",
       "    </tr>\n",
       "    <tr>\n",
       "      <th>balance</th>\n",
       "      <td>733031.6</td>\n",
       "      <td>1134458.2</td>\n",
       "      <td>54.762523</td>\n",
       "    </tr>\n",
       "    <tr>\n",
       "      <th>est_salary</th>\n",
       "      <td>147674.6</td>\n",
       "      <td>148357.5</td>\n",
       "      <td>0.462436</td>\n",
       "    </tr>\n",
       "    <tr>\n",
       "      <th>score</th>\n",
       "      <td>845.4</td>\n",
       "      <td>863.4</td>\n",
       "      <td>2.12917</td>\n",
       "    </tr>\n",
       "    <tr>\n",
       "      <th rowspan=\"4\" valign=\"top\">cont</th>\n",
       "      <th>credit_card</th>\n",
       "      <td>1</td>\n",
       "      <td>1</td>\n",
       "      <td>0</td>\n",
       "    </tr>\n",
       "    <tr>\n",
       "      <th>equity</th>\n",
       "      <td>3</td>\n",
       "      <td>4</td>\n",
       "      <td>1</td>\n",
       "    </tr>\n",
       "    <tr>\n",
       "      <th>last_activity</th>\n",
       "      <td>0</td>\n",
       "      <td>1</td>\n",
       "      <td>1</td>\n",
       "    </tr>\n",
       "    <tr>\n",
       "      <th>products</th>\n",
       "      <td>2</td>\n",
       "      <td>2</td>\n",
       "      <td>0</td>\n",
       "    </tr>\n",
       "    <tr>\n",
       "      <th rowspan=\"2\" valign=\"top\">cat</th>\n",
       "      <th>city</th>\n",
       "      <td>Ярославль</td>\n",
       "      <td>Ярославль</td>\n",
       "      <td>-</td>\n",
       "    </tr>\n",
       "    <tr>\n",
       "      <th>gender</th>\n",
       "      <td>Ж</td>\n",
       "      <td>М</td>\n",
       "      <td>-</td>\n",
       "    </tr>\n",
       "  </tbody>\n",
       "</table>\n",
       "</div>"
      ],
      "text/plain": [
       "                    Лояльность      Отток    Разница\n",
       "discr age                 43.0       41.4   -3.72093\n",
       "      balance         733031.6  1134458.2  54.762523\n",
       "      est_salary      147674.6   148357.5   0.462436\n",
       "      score              845.4      863.4    2.12917\n",
       "cont  credit_card            1          1          0\n",
       "      equity                 3          4          1\n",
       "      last_activity          0          1          1\n",
       "      products               2          2          0\n",
       "cat   city           Ярославль  Ярославль          -\n",
       "      gender                 Ж          М          -"
      ]
     },
     "execution_count": 26,
     "metadata": {},
     "output_type": "execute_result"
    }
   ],
   "source": [
    "# Объединим полученные сводные таблицы в одну\n",
    "\n",
    "pd.concat([cont_pivot, discr_pivot, cat_pivot], keys=['discr', 'cont', 'cat'])"
   ]
  },
  {
   "cell_type": "code",
   "execution_count": 27,
   "id": "cb4c7875",
   "metadata": {},
   "outputs": [
    {
     "data": {
      "text/plain": [
       "churn  city     \n",
       "0      Ярославль    4758\n",
       "       Рыбинск      2246\n",
       "       Ростов       1151\n",
       "1      Ярославль    1117\n",
       "       Рыбинск       436\n",
       "       Ростов        265\n",
       "Name: city, dtype: int64"
      ]
     },
     "execution_count": 27,
     "metadata": {},
     "output_type": "execute_result"
    }
   ],
   "source": [
    "data.groupby('churn')['city'].value_counts()"
   ]
  },
  {
   "cell_type": "markdown",
   "id": "4131dae0",
   "metadata": {},
   "source": [
    "Из полученной таблицы видим, что не для всех признаков меры центральной тенденции значительно отличаются в зависимости от факта оттока. \n",
    "\n",
    "Среди усредненных дискретных величин существенная разница наблюдается только по балансу на счете: средний баланс у отточного клиента почти на 55% превышает средний баланс лояльного.\n",
    "\n",
    "Для отточных клиентов характерно наличие большего количества собственности, а также наблюдается активность в последний месяц лайфтайма.\n",
    "\n",
    "Чаще среди отточных клиентов встречаются мужчины.\n",
    "\n",
    "Город проживания отточных и лояльных клиентов один и тот же - Ярославль. Это связано с тем, что в датасете в целом представлено больше записей о клиентах из этого города (возможно, в Ярославле банк пользуется большим спросом, чем в других городах).\n",
    "\n",
    "Стоит отметить, что аналогичные тенденции уже наблюдались при анализе графиков плотности. "
   ]
  },
  {
   "cell_type": "markdown",
   "id": "183bac69",
   "metadata": {},
   "source": [
    "### Корреляционный анализ"
   ]
  },
  {
   "cell_type": "code",
   "execution_count": 28,
   "id": "8f172b73",
   "metadata": {},
   "outputs": [
    {
     "data": {
      "image/png": "[encoded data removed]",
      "text/plain": [
       "<Figure size 1440x720 with 2 Axes>"
      ]
     },
     "metadata": {
      "needs_background": "light"
     },
     "output_type": "display_data"
    }
   ],
   "source": [
    "plt.figure(figsize=(20, 10))\n",
    "\n",
    "sns.heatmap(phik.phik_matrix(df=data.loc[:, ~data.columns.isin(['user_id', 'city', 'gender'])],\n",
    "                             interval_cols=data_cont.columns),\n",
    "            annot=True, \n",
    "            fmt='.2g', \n",
    "            cmap='coolwarm',\n",
    "            center=0)\n",
    "plt.title('График зависимостей')\n",
    "plt.show()"
   ]
  },
  {
   "cell_type": "markdown",
   "id": "8ca533d6",
   "metadata": {},
   "source": [
    "Проанализируем влияние параметров на факт оттока. В матрице корреляций заметно, что сильнее всего на него влияют количество банковских продуктов у клиента (44% - слабая корреляция), количество баллов собственности и заполненность столбца балансом счета клиента (35% и 38%, соответственно, - слабая корреляция). \n",
    "\n",
    "Еще более слабая взаимозависимость присутствует между оттоком и активностью клиента (25%) и полом (22%).\n",
    "\n",
    "Таким образом, корреляционный анализ доказывает присутствие нетесных взаимосязей между некоторыми признаками и признаком оттока.\n",
    "\n",
    "Проанализируем попарную корреляцию между другими признаками. Между большинством переменных наблюдается очень слабая связь. \n",
    "\n",
    "Стоит отметить очень высокую связь между количеством баллов собственности и фактом заполненности столбца баланса (98%). Высокая связь наблюдается между заполненнстью поля баланса и количеством продуктов у клиента и скоринговой оценкой (79% и 75%, соответственно). Связь средней тесноты установилась между скоринговой оценкой и количеством баллов собственности (53%). Также имеет место слабая связь между наличием у клиента кредитной карты и количеством продуктов клиента (44%)."
   ]
  },
  {
   "cell_type": "markdown",
   "id": "ee5c85dc",
   "metadata": {},
   "source": [
    "## Проверка статистических гипотез"
   ]
  },
  {
   "cell_type": "markdown",
   "id": "a042cb55",
   "metadata": {},
   "source": [
    "### Гипотеза  о влиянии дохода на отток клиентов"
   ]
  },
  {
   "cell_type": "markdown",
   "id": "1345c2b0",
   "metadata": {},
   "source": [
    "__H0:__ Различия в доходе клиентов не влияют на их отток. _( = Клиенты уходят из банка вне зависимости от своих доходов)_\n",
    "\n",
    "__H1:__ Различия в доходе клиентов имеют влияние на их отток. _( = Лояльность клиентов банка связана с их доходами)_"
   ]
  },
  {
   "cell_type": "markdown",
   "id": "c339e59c",
   "metadata": {},
   "source": [
    "Необходимо проверить, какой тест мы можем использовать для проверки вышеописанных гипотез. Использование t-теста Стьюдента возможно в том числе при условии, что распределение признаков в каждой выборке соответствует нормальному распределению. На графиках ниже видно, что распределения наших выборок похожи на пуассоновскиеу, следовательно, в этом случае нельзя использовать t-критерий Стьюдента."
   ]
  },
  {
   "cell_type": "code",
   "execution_count": 29,
   "id": "8fed5b12",
   "metadata": {},
   "outputs": [
    {
     "data": {
      "image/png": "[encoded data removed]",
      "text/plain": [
       "<Figure size 1080x360 with 2 Axes>"
      ]
     },
     "metadata": {
      "needs_background": "light"
     },
     "output_type": "display_data"
    }
   ],
   "source": [
    "figure, [ax1, ax2] = plt.subplots(1, 2, figsize=(15,5))\n",
    "\n",
    "ax1 = data.loc[data['churn'] == 0, 'est_salary'].hist(bins=100, ax=ax1)\n",
    "ax1.set_title('Распределение доходов по лояльным клиентам')\n",
    "ax1.set_xlabel('Оценочный доход')\n",
    "ax1.set_ylabel('Количество клиентов')\n",
    "\n",
    "ax2 = data.loc[data['churn'] == 1, 'est_salary'].hist(bins=100, ax=ax2)\n",
    "ax2.set_title('Распределение доходов по отточным клиентам')\n",
    "ax2.set_xlabel('Оценочный доход')\n",
    "ax2.set_ylabel('Количество клиентов')\n",
    "\n",
    "plt.show()"
   ]
  },
  {
   "cell_type": "code",
   "execution_count": 30,
   "id": "b8e65653",
   "metadata": {},
   "outputs": [],
   "source": [
    "sample_1 = data.loc[data['churn'] == 0, 'est_salary']\n",
    "sample_2 = data.loc[data['churn'] == 1, 'est_salary']"
   ]
  },
  {
   "cell_type": "code",
   "execution_count": 31,
   "id": "8758416a",
   "metadata": {},
   "outputs": [
    {
     "name": "stdout",
     "output_type": "stream",
     "text": [
      "p-значение: 0.00016830729188229058\n"
     ]
    }
   ],
   "source": [
    "alpha = 0.05\n",
    "results = st.mannwhitneyu(sample_1, sample_2)\n",
    "print('p-значение:', results.pvalue)"
   ]
  },
  {
   "cell_type": "code",
   "execution_count": 32,
   "id": "9114497c",
   "metadata": {},
   "outputs": [
    {
     "name": "stdout",
     "output_type": "stream",
     "text": [
      "Отвергаем нулевую гипотезу\n"
     ]
    }
   ],
   "source": [
    "if results.pvalue < alpha:\n",
    "    print('Отвергаем нулевую гипотезу')\n",
    "else:\n",
    "    print('Не получилось отвергнуть нулевую гипотезу') "
   ]
  },
  {
   "cell_type": "markdown",
   "id": "349756e2",
   "metadata": {},
   "source": [
    "Гипотеза о том, что клиенты уходят из банка вне зависимости от дохода была отвергнута."
   ]
  },
  {
   "cell_type": "markdown",
   "id": "838a3b72",
   "metadata": {},
   "source": [
    "### Гипотеза о влиянии количества банковских продуктов на отток клиентов"
   ]
  },
  {
   "cell_type": "markdown",
   "id": "d973fd29",
   "metadata": {},
   "source": [
    "__H0:__ Количество банковских продуктов клиента не влияет на факт его оттока\n",
    "\n",
    "__H1:__ Отток клиента зависит от количества используемых им банковских продуктов"
   ]
  },
  {
   "cell_type": "markdown",
   "id": "85e1fcd8",
   "metadata": {},
   "source": [
    "Визуально распределения признака не похожи на нормальные - нельзя использовать t-критерий Стьюдента, используем U-критерий Манна-Уитни."
   ]
  },
  {
   "cell_type": "code",
   "execution_count": 33,
   "id": "47066d70",
   "metadata": {},
   "outputs": [
    {
     "data": {
      "image/png": "[encoded data removed]",
      "text/plain": [
       "<Figure size 1080x360 with 2 Axes>"
      ]
     },
     "metadata": {
      "needs_background": "light"
     },
     "output_type": "display_data"
    }
   ],
   "source": [
    "figure, [ax1, ax2] = plt.subplots(1, 2, figsize=(15,5))\n",
    "\n",
    "ax1 = data.loc[data['churn'] == 0, 'products'].hist(ax=ax1)\n",
    "ax1.set_title('Распределение кол-ва банковских продуктов по лояльным клиентам')\n",
    "ax1.set_xlabel('Количество банковских продуктов')\n",
    "ax1.set_ylabel('Количество клиентов')\n",
    "\n",
    "ax2 = data.loc[data['churn'] == 1, 'products'].hist(ax=ax2)\n",
    "ax2.set_title('Распределение кол-ва банковских продуктов по отточным клиентам')\n",
    "ax2.set_xlabel('Количество банковских продуктов')\n",
    "ax2.set_ylabel('Количество клиентов')\n",
    "\n",
    "plt.show()"
   ]
  },
  {
   "cell_type": "code",
   "execution_count": 34,
   "id": "25ca935a",
   "metadata": {},
   "outputs": [],
   "source": [
    "sample_1 = data.loc[data['churn'] == 0, 'products']\n",
    "sample_2 = data.loc[data['churn'] == 1, 'products']"
   ]
  },
  {
   "cell_type": "code",
   "execution_count": 35,
   "id": "462d424b",
   "metadata": {},
   "outputs": [
    {
     "name": "stdout",
     "output_type": "stream",
     "text": [
      "p-значение: 1.1812726611971905e-161\n"
     ]
    }
   ],
   "source": [
    "results = st.mannwhitneyu(sample_1, sample_2)\n",
    "print('p-значение:', results.pvalue)"
   ]
  },
  {
   "cell_type": "code",
   "execution_count": 36,
   "id": "e6344e08",
   "metadata": {},
   "outputs": [
    {
     "name": "stdout",
     "output_type": "stream",
     "text": [
      "Отвергаем нулевую гипотезу\n"
     ]
    }
   ],
   "source": [
    "if results.pvalue < alpha:\n",
    "    print('Отвергаем нулевую гипотезу')\n",
    "else:\n",
    "    print('Не получилось отвергнуть нулевую гипотезу') "
   ]
  },
  {
   "cell_type": "markdown",
   "id": "81dc72f5",
   "metadata": {},
   "source": [
    "По результатам проверки мы не можем принять гипотезу об отсутствии влияния количества банковских продуктов на отточность клиентов."
   ]
  },
  {
   "cell_type": "markdown",
   "id": "b763d71a",
   "metadata": {},
   "source": [
    "## Промежуточные итоги"
   ]
  },
  {
   "cell_type": "markdown",
   "id": "ae982ca4",
   "metadata": {},
   "source": [
    "Для дальнейшей сегментации клиентов и выбора сегментов, наиболее склонных к оттоку, соберем выводы, полученные выше в процессе анализа.\n",
    "\n",
    "В процессе корреляционного анаилза выяснилось, что отток наиболее зависим от количества банковских продуктов у клиента, количество баллов собственности, активностью клиента и полом. Однако стоит отметить, что по шкале Чеддока взаимосвязи факта оттока с вышеперечисленными признаками можно охарактеризовать как слабые и очень слабые.\n",
    "\n",
    "Далее выяснилось, что медианное количество банковских продуктов у отточных и лояльных клиентов не отличается. Но, исследуя распределение признака, определили, что уходят чаще клиенты с 3-мя и более продуктами. __Характерно высокий отток по клиентам с 4-мя банковскими продуктами.__ Кроме того, при проверке статистической гипотезы о присутствии зависимости между количеством банковских продуктов у клиента было выяснено, что нельзя отрицать отсутствие влияния количества банковских продуктов на отток.\n",
    "\n",
    "Важно отметить, что кредитными картами чаще пользуются лояльные клиенты: __отток по клиентам без кредитных карт выше.__\n",
    "\n",
    "Аналогичный вывод был сделан и по количеству баллов собственности (=количество объектов собственности): отток по клиентам с 3-мя и более объектами собственности выше среднего. __Особенно часто уходят клиенты с 7-ю и 9-ю объектами собственности.__\n",
    "\n",
    "Также было отмечено, что __в среднем мужчины чаще уходят из банка, чем женщины__ - отточность мужчин выше среднебанковской.\n",
    "\n",
    "Что касается возраста клиентов, анализ графиков плотности показал, что __отток превышает лояльность клиентов в двух возрастных сегментах: 25 - 37 лет и 50 - 61 лет.__ А средний возраст отточных клиентов на 1,5 года меньше аналогичного показателя по лояльным клиентам.\n",
    "\n",
    "Сделаем выводы о влиянии оценочных доходов и баланса на счетах клиентов. В средем доход клиентов не отличается в зависимости от факта оттока, однако судя по графику плотности __отточность начинает превалировать, но не очень существенно, над лояльностью с размера дохода около 70 000 у.e. (0.07 млн), особенно на отрезке данных от 100 до 200 тыс. у.е.__ Исходя из этого, можем сделать  вывод о том, что люди с менее высоким доходом более лояльны к банку.\n",
    "\n",
    "Что касается баланса на счете, средний баланс у отточного клиента почти на 55% превышает средний баланс лояльного. На графике плотности видно, что __отток значительно превышает лояльность на интервале от 1 до 4 млн у.e.__, что подтвержает вышепредставленное утверждение. \n",
    "\n",
    "Что касается города проживания отточных и лояльных клиентов, и отточные, и лояльные клиенты чаще всего живут в Ярославле, но это объясняется тем фактом, что клиентов банка в Ярославле в целом больше, чем в других городах. Из графиков плотности можно сделать вывод, что __отток выше среднего в Ярославле и Ростове, а в Рыбинске - наоборот, ниже, чем в среднем по банку.__"
   ]
  },
  {
   "cell_type": "markdown",
   "id": "abd0a6f6",
   "metadata": {},
   "source": [
    "## Сегментация отточных клиентов"
   ]
  },
  {
   "cell_type": "markdown",
   "id": "3c3eadd8",
   "metadata": {},
   "source": [
    "### Выделение сегментов"
   ]
  },
  {
   "cell_type": "markdown",
   "id": "7dd67841",
   "metadata": {},
   "source": [
    "__Первый сегмент__ - клиенты мужчины с количеством объектов собственности 3 и более. Таких клиентов в датасете 967, что делает этот сегмент самый крупным среди выбранных."
   ]
  },
  {
   "cell_type": "code",
   "execution_count": 37,
   "id": "0b942105",
   "metadata": {},
   "outputs": [
    {
     "name": "stdout",
     "output_type": "stream",
     "text": [
      "Абсолютная величина оттока в сегменте - 967\n",
      "Доля оттока в сегменте - 35.47%\n"
     ]
    }
   ],
   "source": [
    "print('Абсолютная величина оттока в сегменте - {}'.format(data.query('gender==\"М\" & equity>=3 & churn==1')['churn'].count()))\n",
    "print('Доля оттока в сегменте - {0:.4}%'.format(data.query('gender==\"М\" & equity>=3 & churn==1')['churn'].count() / data.query('gender==\"М\" & equity>=3')['churn'].count() * 100))"
   ]
  },
  {
   "cell_type": "markdown",
   "id": "970f9ab5",
   "metadata": {},
   "source": [
    "В процессе анализа было выявлено, что баланс на счете у отточного клиента в среднем превышает баланс на счете у лояльного клиента. Выделенный __вторым сегмент__ более многочисленный, чем остальные выбранные сегменты - поэтому стоит сконцентрировать работу специалистов именно на удержании клиентов из этого мегмента. Кроме того логично заметить, что отток клиента с большим остатком на счете для банка будет большей потерей, чем с не такой существенной суммой на счете. Исходя из этого, работа с клиентами с большими суммами на балансе должна являться приоритетной для отдела маркетинга банка."
   ]
  },
  {
   "cell_type": "code",
   "execution_count": 38,
   "id": "a08a4918",
   "metadata": {},
   "outputs": [
    {
     "name": "stdout",
     "output_type": "stream",
     "text": [
      "Абсолютная величина оттока в сегменте - 722\n",
      "Доля оттока в сегменте - 38.55%\n"
     ]
    }
   ],
   "source": [
    "# Сегмент 1\n",
    "# Остаток на счете свыше 1 млн у.е. \n",
    "\n",
    "print('Абсолютная величина оттока в сегменте - {}'.format(data.query('balance>=1000000 & churn==1')['churn'].count()))\n",
    "print('Доля оттока в сегменте - {0:.4}%'.format(data.query('balance>=1000000 & churn==1')['churn'].count() / data.query('balance>=1000000')['churn'].count() * 100))"
   ]
  },
  {
   "cell_type": "markdown",
   "id": "9eaa7464",
   "metadata": {},
   "source": [
    "__Третий сегмент__ представлен клиентами со средним, по меркам банка, оценочным доходом (от 70 до 200 тыс. у.е.), у которых нет в качестве банковского продукта кредитной карты. Данный сегмент довольно многочислен и, кроме того, общеизвестно, что основную часть своей прибыли банк формирует за счет кредитования. Исходя их этого, имеет место работа с клиентами, еще не кредитующимися в банке."
   ]
  },
  {
   "cell_type": "code",
   "execution_count": 39,
   "id": "3099c438",
   "metadata": {},
   "outputs": [
    {
     "name": "stdout",
     "output_type": "stream",
     "text": [
      "Абсолютная величина оттока в сегменте - 532\n",
      "Доля оттока в сегменте - 27.16%\n"
     ]
    }
   ],
   "source": [
    "# Сегмент 2\n",
    "# Доход - 70 - 200 тыс. у.е., отсутствие кредитной карты\n",
    "\n",
    "print('Абсолютная величина оттока в сегменте - {}'.format(data.query('est_salary>=70000 & est_salary<=200000 & credit_card==0 & churn==1')['churn'].count()))\n",
    "print('Доля оттока в сегменте - {0:.4}%'.format(data.query('est_salary>=70000 & est_salary<=200000 & credit_card==0 & churn==1')['churn'].count() / data.query('est_salary>=70000 & est_salary<=200000 & credit_card==0')['churn'].count() * 100))"
   ]
  },
  {
   "cell_type": "markdown",
   "id": "0df45735",
   "metadata": {},
   "source": [
    "### Приоритизация сегментов"
   ]
  },
  {
   "cell_type": "markdown",
   "id": "56fb08df",
   "metadata": {},
   "source": [
    "Ранее были выделены 3 сегмента клиентов, удержание которых является первоочередной задачей для отдела маркетинга:\n",
    "1) мужчины с количеством объектов собственности 3 и более (967 клиентов в датасете, процент оттока в сегменте - 35.47%);\n",
    "\n",
    "2) клиенты с остатком на счете свыше 1 млн у.е.(722 клиентов в датасете, процент оттока в сегменте - 38.55%);\n",
    "\n",
    "3) клиенты с оценочным доходом от 70 до 200 тыс. у.е., у которых нет кредитной карты (532 клиентов в датасете, процент оттока в сегменте - 27.16%).\n",
    "\n",
    "Однако поскольку ресурсы маркетинга ограничены, необходимо приоритизировать эти сегменты и работать с клиентами в соответсвии с их ценностью для банка.\n",
    "\n",
    "Исходя из размеров долей отточных клиентов в сегментах, можно было бы начать работу с удержания клиентов, составляющих сегмент с самой высокой долей оттока, - с остатком на счете свыше 1 млн у.е. Однако если обратить внимание на долю клиентов, составляющих этот сегмент, среди всех клиентов банка (27.33%) и сравнить ее с аналогичным показателем по клиентам, составляющим 1-й сегмент (мужчины с количеством объектов собственности 3+) (18.78%), а также на отток клиентов в абсолютном выражении, мы увидим, что рациональнее было бы начать работу с удержания клиентов с 1-го сегмента, несмотря на то что доля оттока в этом сегменте на 3% ниже, чем во 2-м.\n",
    "\n",
    "Следующим этапом маркетологам стоит обратить свои силы на удержание клиентов из 2-го сегмента (клиенты с остатком на счете свыше 1 млн у.е.). Процент оттока по сегменту выше, чем в 3-м сегменте, а доля самого сегмента прктически такая же, как у 3-го.\n",
    "\n",
    "И наконец стоит обратить на клиентов с оценочным доходом от 70 до 200 тыс. у.е., у которых нет кредитной карты."
   ]
  },
  {
   "cell_type": "code",
   "execution_count": 40,
   "id": "21efddf2",
   "metadata": {},
   "outputs": [
    {
     "name": "stdout",
     "output_type": "stream",
     "text": [
      "Доля мужчин с количеством объектов собственности 3+ в датасете - 27.3%\n",
      "Доля клиентов с остатком на счете свыше 1 млн у.е. в датасете - 18.8%\n",
      "Доля клиентов с оценочным доходом от 70 до 200 тыс. у.е. без кредитной карты в датасете - 19.6%\n"
     ]
    }
   ],
   "source": [
    "print('Доля мужчин с количеством объектов собственности 3+ в датасете - {0:.3}%'.format(data.query('gender==\"М\" & equity>=3')['churn'].count() / data['churn'].count() * 100))\n",
    "\n",
    "print('Доля клиентов с остатком на счете свыше 1 млн у.е. в датасете - {0:.3}%'.format(data.query('balance>=1000000')['churn'].count() / data['churn'].count() * 100))\n",
    "\n",
    "print('Доля клиентов с оценочным доходом от 70 до 200 тыс. у.е. без кредитной карты в датасете - {0:.3}%'.format(data.query('est_salary>=70000 & est_salary<=200000 & credit_card==0')['churn'].count() / data['churn'].count() * 100))  "
   ]
  },
  {
   "cell_type": "markdown",
   "id": "e1f7f5ef",
   "metadata": {},
   "source": [
    "## Рекомендации маркетингу"
   ]
  },
  {
   "cell_type": "markdown",
   "id": "f5791394",
   "metadata": {},
   "source": [
    "___Список рекомендаций:___\n",
    "\n",
    "\n",
    "- __По сегменту 1:__ В последнее время банки расширяют ассортимент предоставляемых услуг, в том числе в сторону страхования. Можно предположить, что клиенты-владельцы большого количества имущества пользуются услугами страховых компаний с целью обезопасить свою недвижимость, автомобиль и т.д. Банк мог бы взять на себя функцию страхового агента: клиенту было бы удобно пользоваться услугами банка, который одновременно является и его банком, и страховой компанией. Помимо этого, банк мог бы предложить своим клиентам как банка более выгодные условия страхования с целью повышения лояльности.\n",
    "\n",
    "\n",
    "- __По сегменту 2:__ В отношение клиентов из 2-го сегмента, с большими остатками на счетах, можно воспользоваться следующими рекомендациями: предлагать клиентами открытие депозитных счетов с повышенными (относительно остальных депозитных продуктов банка) процентами; предлагать клиентам вложение \"свободных\" денежных средств в торговлю на бирже (трейдинг) с помощью доверительного управителя в лице банка.\n",
    "\n",
    "\n",
    "- __По сегменту 3:__ Клиентам со средним заработком, не имеющим кредитной карты, из 3-го сегмента имеет смысл предлагать открытие кредитной карты. Однако факт того, что клиент до сих пор не завел себе и не пользуется кредитной картой, вероятно, говорит о том, что она не так привлекает его, по крайней мере по предложенным в настоящее время условиям. Исходя из этого, рациональным будет предложить клиентам новый продукт - карту рассрочки (без платежей в течение первых n дней и с фиксированной невысокой ставкой процента)."
   ]
  }
 ],
 "metadata": {
  "ExecuteTimeLog": [
   {
    "duration": 4132,
    "start_time": "2023-11-27T10:28:45.746Z"
   },
   {
    "duration": 1085,
    "start_time": "2023-11-27T10:28:49.880Z"
   },
   {
    "duration": 117,
    "start_time": "2023-11-27T10:28:50.967Z"
   },
   {
    "duration": 12,
    "start_time": "2023-11-27T10:28:51.087Z"
   },
   {
    "duration": 23,
    "start_time": "2023-11-27T10:28:51.101Z"
   },
   {
    "duration": 37,
    "start_time": "2023-11-27T10:28:51.126Z"
   },
   {
    "duration": 52,
    "start_time": "2023-11-27T10:28:51.166Z"
   },
   {
    "duration": 68,
    "start_time": "2023-11-27T10:28:51.220Z"
   },
   {
    "duration": 19,
    "start_time": "2023-11-27T10:28:51.289Z"
   },
   {
    "duration": 26,
    "start_time": "2023-11-27T10:28:51.311Z"
   },
   {
    "duration": 1644,
    "start_time": "2023-11-27T10:28:51.339Z"
   },
   {
    "duration": 18,
    "start_time": "2023-11-27T10:28:52.985Z"
   },
   {
    "duration": 8,
    "start_time": "2023-11-27T10:28:53.004Z"
   },
   {
    "duration": 32,
    "start_time": "2023-11-27T10:28:53.014Z"
   },
   {
    "duration": 36,
    "start_time": "2023-11-27T10:28:53.048Z"
   },
   {
    "duration": 8097,
    "start_time": "2023-11-27T10:28:53.085Z"
   },
   {
    "duration": 3332,
    "start_time": "2023-11-27T10:29:01.184Z"
   },
   {
    "duration": 15,
    "start_time": "2023-11-27T10:29:04.517Z"
   },
   {
    "duration": 32,
    "start_time": "2023-11-27T10:29:04.534Z"
   },
   {
    "duration": 15,
    "start_time": "2023-11-27T10:29:04.567Z"
   },
   {
    "duration": 225,
    "start_time": "2023-11-27T10:29:04.583Z"
   },
   {
    "duration": 11,
    "start_time": "2023-11-27T10:29:04.810Z"
   },
   {
    "duration": 18,
    "start_time": "2023-11-27T10:29:04.822Z"
   },
   {
    "duration": 2019,
    "start_time": "2023-11-27T10:29:04.842Z"
   },
   {
    "duration": 482,
    "start_time": "2023-11-27T10:29:06.863Z"
   },
   {
    "duration": 5,
    "start_time": "2023-11-27T10:29:07.347Z"
   },
   {
    "duration": 10,
    "start_time": "2023-11-27T10:29:07.353Z"
   },
   {
    "duration": 4,
    "start_time": "2023-11-27T10:29:07.366Z"
   },
   {
    "duration": 288,
    "start_time": "2023-11-27T10:29:07.372Z"
   },
   {
    "duration": 5,
    "start_time": "2023-11-27T10:29:07.662Z"
   },
   {
    "duration": 11,
    "start_time": "2023-11-27T10:29:07.669Z"
   },
   {
    "duration": 4,
    "start_time": "2023-11-27T10:29:07.681Z"
   },
   {
    "duration": 18,
    "start_time": "2023-11-27T10:29:07.686Z"
   },
   {
    "duration": 30,
    "start_time": "2023-11-27T10:29:07.707Z"
   },
   {
    "duration": 9,
    "start_time": "2023-11-27T10:29:07.739Z"
   },
   {
    "duration": 4,
    "start_time": "2023-11-27T10:35:44.002Z"
   },
   {
    "duration": 6,
    "start_time": "2023-11-27T10:54:54.771Z"
   },
   {
    "duration": 3687,
    "start_time": "2023-11-27T14:15:08.571Z"
   },
   {
    "duration": 1324,
    "start_time": "2023-11-27T14:15:12.261Z"
   },
   {
    "duration": 104,
    "start_time": "2023-11-27T14:15:13.587Z"
   },
   {
    "duration": 17,
    "start_time": "2023-11-27T14:15:33.652Z"
   },
   {
    "duration": 13,
    "start_time": "2023-11-27T14:15:33.854Z"
   },
   {
    "duration": 4,
    "start_time": "2023-11-27T14:15:43.407Z"
   },
   {
    "duration": 13,
    "start_time": "2023-11-27T14:15:44.211Z"
   },
   {
    "duration": 27,
    "start_time": "2023-11-27T14:16:12.479Z"
   },
   {
    "duration": 55,
    "start_time": "2023-11-27T14:16:13.080Z"
   },
   {
    "duration": 20,
    "start_time": "2023-11-27T14:16:13.280Z"
   },
   {
    "duration": 20,
    "start_time": "2023-11-27T14:16:13.675Z"
   },
   {
    "duration": 1798,
    "start_time": "2023-11-27T14:16:13.842Z"
   },
   {
    "duration": 1520,
    "start_time": "2023-11-27T14:17:09.918Z"
   },
   {
    "duration": 16,
    "start_time": "2023-11-27T14:17:16.626Z"
   },
   {
    "duration": 4,
    "start_time": "2023-11-27T14:17:36.787Z"
   },
   {
    "duration": 21,
    "start_time": "2023-11-27T14:17:37.707Z"
   },
   {
    "duration": 4,
    "start_time": "2023-11-27T14:17:52.137Z"
   },
   {
    "duration": 14,
    "start_time": "2023-11-27T14:18:28.360Z"
   },
   {
    "duration": 17,
    "start_time": "2023-11-27T14:18:43.599Z"
   },
   {
    "duration": 8531,
    "start_time": "2023-11-27T14:18:54.190Z"
   },
   {
    "duration": 3600,
    "start_time": "2023-11-27T14:20:12.572Z"
   },
   {
    "duration": 13,
    "start_time": "2023-11-27T14:20:51.902Z"
   },
   {
    "duration": 14,
    "start_time": "2023-11-27T14:21:28.603Z"
   },
   {
    "duration": 5,
    "start_time": "2023-11-27T14:24:51.352Z"
   },
   {
    "duration": 8,
    "start_time": "2023-11-27T14:24:54.976Z"
   },
   {
    "duration": 5,
    "start_time": "2023-11-27T14:25:01.316Z"
   },
   {
    "duration": 6,
    "start_time": "2023-11-27T14:25:05.778Z"
   },
   {
    "duration": 19,
    "start_time": "2023-11-27T14:25:05.964Z"
   },
   {
    "duration": 15,
    "start_time": "2023-11-27T14:25:07.770Z"
   },
   {
    "duration": 20,
    "start_time": "2023-11-27T14:25:07.933Z"
   },
   {
    "duration": 11,
    "start_time": "2023-11-27T14:25:08.118Z"
   },
   {
    "duration": 8,
    "start_time": "2023-11-27T14:25:08.245Z"
   },
   {
    "duration": 2093,
    "start_time": "2023-11-27T14:25:15.176Z"
   },
   {
    "duration": 476,
    "start_time": "2023-11-27T14:25:21.380Z"
   },
   {
    "duration": 467,
    "start_time": "2023-11-27T14:25:57.927Z"
   },
   {
    "duration": 477,
    "start_time": "2023-11-27T14:26:04.591Z"
   },
   {
    "duration": 371,
    "start_time": "2023-11-27T14:26:09.246Z"
   },
   {
    "duration": 759,
    "start_time": "2023-11-27T14:26:13.308Z"
   },
   {
    "duration": 488,
    "start_time": "2023-11-27T14:27:42.453Z"
   },
   {
    "duration": 519,
    "start_time": "2023-11-27T14:27:52.190Z"
   },
   {
    "duration": 510,
    "start_time": "2023-11-27T14:29:50.712Z"
   },
   {
    "duration": 6,
    "start_time": "2023-11-27T14:31:43.809Z"
   },
   {
    "duration": 1074,
    "start_time": "2023-11-27T14:31:44.351Z"
   },
   {
    "duration": 4339,
    "start_time": "2023-11-27T14:31:45.427Z"
   },
   {
    "duration": 7,
    "start_time": "2023-11-27T14:32:04.316Z"
   },
   {
    "duration": 3,
    "start_time": "2023-11-27T14:32:04.830Z"
   },
   {
    "duration": 14,
    "start_time": "2023-11-27T14:32:11.982Z"
   },
   {
    "duration": 2110,
    "start_time": "2023-11-27T14:32:12.435Z"
   },
   {
    "duration": 282,
    "start_time": "2023-11-27T14:32:54.910Z"
   },
   {
    "duration": 828,
    "start_time": "2023-11-27T14:32:55.194Z"
   },
   {
    "duration": 1008,
    "start_time": "2023-11-27T14:32:56.024Z"
   },
   {
    "duration": 408,
    "start_time": "2023-11-27T14:32:57.034Z"
   },
   {
    "duration": 542,
    "start_time": "2023-11-27T14:33:30.600Z"
   },
   {
    "duration": 5,
    "start_time": "2023-11-27T14:33:31.543Z"
   },
   {
    "duration": 12,
    "start_time": "2023-11-27T14:33:31.836Z"
   },
   {
    "duration": 3,
    "start_time": "2023-11-27T14:33:32.144Z"
   },
   {
    "duration": 591,
    "start_time": "2023-11-27T14:33:33.417Z"
   },
   {
    "duration": 5,
    "start_time": "2023-11-27T14:33:34.010Z"
   },
   {
    "duration": 194,
    "start_time": "2023-11-27T14:33:34.703Z"
   },
   {
    "duration": 3,
    "start_time": "2023-11-27T14:33:35.527Z"
   },
   {
    "duration": 1498,
    "start_time": "2023-11-27T14:35:59.812Z"
   },
   {
    "duration": 0,
    "start_time": "2023-11-27T14:36:01.312Z"
   },
   {
    "duration": 0,
    "start_time": "2023-11-27T14:36:01.313Z"
   },
   {
    "duration": 9,
    "start_time": "2023-11-27T14:36:07.727Z"
   },
   {
    "duration": 8,
    "start_time": "2023-11-27T14:36:12.888Z"
   },
   {
    "duration": 8,
    "start_time": "2023-11-27T14:36:16.191Z"
   },
   {
    "duration": 3346,
    "start_time": "2023-11-27T21:06:03.135Z"
   },
   {
    "duration": 1367,
    "start_time": "2023-11-27T21:06:06.484Z"
   },
   {
    "duration": 157,
    "start_time": "2023-11-27T21:06:07.852Z"
   },
   {
    "duration": 16,
    "start_time": "2023-11-27T21:06:08.011Z"
   },
   {
    "duration": 11,
    "start_time": "2023-11-27T21:06:08.028Z"
   },
   {
    "duration": 7,
    "start_time": "2023-11-27T21:06:08.041Z"
   },
   {
    "duration": 17,
    "start_time": "2023-11-27T21:06:08.049Z"
   },
   {
    "duration": 47,
    "start_time": "2023-11-27T21:06:08.067Z"
   },
   {
    "duration": 53,
    "start_time": "2023-11-27T21:06:08.116Z"
   },
   {
    "duration": 40,
    "start_time": "2023-11-27T21:06:08.171Z"
   },
   {
    "duration": 18,
    "start_time": "2023-11-27T21:06:08.213Z"
   },
   {
    "duration": 1536,
    "start_time": "2023-11-27T21:06:08.233Z"
   },
   {
    "duration": 15,
    "start_time": "2023-11-27T21:06:09.770Z"
   },
   {
    "duration": 12,
    "start_time": "2023-11-27T21:06:09.787Z"
   },
   {
    "duration": 31,
    "start_time": "2023-11-27T21:06:09.800Z"
   },
   {
    "duration": 4,
    "start_time": "2023-11-27T21:06:09.832Z"
   },
   {
    "duration": 24,
    "start_time": "2023-11-27T21:06:09.837Z"
   },
   {
    "duration": 7576,
    "start_time": "2023-11-27T21:06:13.126Z"
   },
   {
    "duration": 3249,
    "start_time": "2023-11-27T21:06:20.704Z"
   },
   {
    "duration": 12,
    "start_time": "2023-11-27T21:06:23.954Z"
   },
   {
    "duration": 8,
    "start_time": "2023-11-27T21:06:23.968Z"
   },
   {
    "duration": 6,
    "start_time": "2023-11-27T21:06:23.977Z"
   },
   {
    "duration": 37,
    "start_time": "2023-11-27T21:06:23.984Z"
   },
   {
    "duration": 13,
    "start_time": "2023-11-27T21:06:24.022Z"
   },
   {
    "duration": 227,
    "start_time": "2023-11-27T21:06:24.036Z"
   },
   {
    "duration": 11,
    "start_time": "2023-11-27T21:06:24.265Z"
   },
   {
    "duration": 21,
    "start_time": "2023-11-27T21:06:24.279Z"
   },
   {
    "duration": 2015,
    "start_time": "2023-11-27T21:06:24.301Z"
   },
   {
    "duration": 471,
    "start_time": "2023-11-27T21:06:26.318Z"
   },
   {
    "duration": 9,
    "start_time": "2023-11-27T21:06:26.791Z"
   },
   {
    "duration": 11,
    "start_time": "2023-11-27T21:06:26.801Z"
   },
   {
    "duration": 3,
    "start_time": "2023-11-27T21:06:26.814Z"
   },
   {
    "duration": 250,
    "start_time": "2023-11-27T21:06:26.818Z"
   },
   {
    "duration": 4,
    "start_time": "2023-11-27T21:06:27.070Z"
   },
   {
    "duration": 10,
    "start_time": "2023-11-27T21:06:27.076Z"
   },
   {
    "duration": 12,
    "start_time": "2023-11-27T21:06:27.087Z"
   },
   {
    "duration": 9,
    "start_time": "2023-11-27T21:06:28.276Z"
   },
   {
    "duration": 7,
    "start_time": "2023-11-27T21:06:28.924Z"
   },
   {
    "duration": 8,
    "start_time": "2023-11-27T21:06:29.571Z"
   },
   {
    "duration": 8,
    "start_time": "2023-11-27T21:07:34.878Z"
   },
   {
    "duration": 16,
    "start_time": "2023-11-27T21:07:46.240Z"
   },
   {
    "duration": 16,
    "start_time": "2023-11-27T21:07:49.895Z"
   },
   {
    "duration": 104,
    "start_time": "2023-11-27T21:08:14.073Z"
   },
   {
    "duration": 112,
    "start_time": "2023-11-27T21:08:28.045Z"
   },
   {
    "duration": 14,
    "start_time": "2023-11-27T21:10:44.724Z"
   },
   {
    "duration": 13,
    "start_time": "2023-11-27T21:10:49.180Z"
   },
   {
    "duration": 107,
    "start_time": "2023-11-27T21:10:52.169Z"
   },
   {
    "duration": 13,
    "start_time": "2023-11-27T21:10:55.030Z"
   },
   {
    "duration": 14,
    "start_time": "2023-11-27T21:10:58.343Z"
   },
   {
    "duration": 14,
    "start_time": "2023-11-27T21:11:01.994Z"
   },
   {
    "duration": 13,
    "start_time": "2023-11-27T21:11:06.216Z"
   },
   {
    "duration": 13,
    "start_time": "2023-11-27T21:11:08.837Z"
   },
   {
    "duration": 14,
    "start_time": "2023-11-27T21:11:47.599Z"
   },
   {
    "duration": 14,
    "start_time": "2023-11-27T21:11:54.222Z"
   },
   {
    "duration": 8,
    "start_time": "2023-11-27T21:12:09.381Z"
   },
   {
    "duration": 9,
    "start_time": "2023-11-27T21:12:21.806Z"
   },
   {
    "duration": 108,
    "start_time": "2023-11-27T21:12:24.707Z"
   },
   {
    "duration": 7,
    "start_time": "2023-11-27T21:12:27.535Z"
   },
   {
    "duration": 108,
    "start_time": "2023-11-27T21:12:53.940Z"
   },
   {
    "duration": 132,
    "start_time": "2023-11-27T21:13:31.081Z"
   },
   {
    "duration": 87,
    "start_time": "2023-11-27T21:13:33.301Z"
   },
   {
    "duration": 13,
    "start_time": "2023-11-27T21:14:02.970Z"
   },
   {
    "duration": 12,
    "start_time": "2023-11-27T21:14:13.496Z"
   },
   {
    "duration": 14,
    "start_time": "2023-11-27T21:14:43.260Z"
   },
   {
    "duration": 11,
    "start_time": "2023-11-27T21:31:27.635Z"
   },
   {
    "duration": 111,
    "start_time": "2023-11-27T21:31:51.906Z"
   },
   {
    "duration": 8,
    "start_time": "2023-11-27T21:31:54.474Z"
   },
   {
    "duration": 111,
    "start_time": "2023-11-27T21:47:39.258Z"
   },
   {
    "duration": 117,
    "start_time": "2023-11-27T21:47:42.497Z"
   },
   {
    "duration": 9,
    "start_time": "2023-11-27T21:47:47.089Z"
   },
   {
    "duration": 117,
    "start_time": "2023-11-27T21:59:43.696Z"
   },
   {
    "duration": 107,
    "start_time": "2023-11-27T21:59:55.865Z"
   },
   {
    "duration": 8,
    "start_time": "2023-11-27T22:00:04.477Z"
   },
   {
    "duration": 7,
    "start_time": "2023-11-27T22:00:22.283Z"
   },
   {
    "duration": 9,
    "start_time": "2023-11-27T22:00:29.885Z"
   },
   {
    "duration": 9,
    "start_time": "2023-11-27T22:01:34.524Z"
   },
   {
    "duration": 14,
    "start_time": "2023-11-27T22:01:47.995Z"
   },
   {
    "duration": 876,
    "start_time": "2023-11-27T22:04:18.331Z"
   },
   {
    "duration": 110,
    "start_time": "2023-11-27T22:05:15.881Z"
   },
   {
    "duration": 12,
    "start_time": "2023-11-27T22:05:16.130Z"
   },
   {
    "duration": 12,
    "start_time": "2023-11-27T22:05:16.685Z"
   },
   {
    "duration": 5,
    "start_time": "2023-11-27T22:05:18.002Z"
   },
   {
    "duration": 13,
    "start_time": "2023-11-27T22:05:18.147Z"
   },
   {
    "duration": 24,
    "start_time": "2023-11-27T22:05:18.829Z"
   },
   {
    "duration": 17,
    "start_time": "2023-11-27T22:05:19.799Z"
   },
   {
    "duration": 18,
    "start_time": "2023-11-27T22:05:20.052Z"
   },
   {
    "duration": 16,
    "start_time": "2023-11-27T22:05:20.877Z"
   },
   {
    "duration": 1442,
    "start_time": "2023-11-27T22:05:21.032Z"
   },
   {
    "duration": 14,
    "start_time": "2023-11-27T22:05:26.020Z"
   },
   {
    "duration": 4,
    "start_time": "2023-11-27T22:05:26.629Z"
   },
   {
    "duration": 20,
    "start_time": "2023-11-27T22:05:27.385Z"
   },
   {
    "duration": 5,
    "start_time": "2023-11-27T22:05:28.624Z"
   },
   {
    "duration": 16,
    "start_time": "2023-11-27T22:05:43.011Z"
   },
   {
    "duration": 8002,
    "start_time": "2023-11-27T22:05:46.634Z"
   },
   {
    "duration": 3205,
    "start_time": "2023-11-27T22:05:54.638Z"
   },
   {
    "duration": 12,
    "start_time": "2023-11-27T22:05:57.844Z"
   },
   {
    "duration": 5,
    "start_time": "2023-11-27T22:06:04.839Z"
   },
   {
    "duration": 5,
    "start_time": "2023-11-27T22:06:08.759Z"
   },
   {
    "duration": 19,
    "start_time": "2023-11-27T22:06:09.270Z"
   },
   {
    "duration": 14,
    "start_time": "2023-11-27T22:06:09.550Z"
   },
   {
    "duration": 19,
    "start_time": "2023-11-27T22:06:09.765Z"
   },
   {
    "duration": 11,
    "start_time": "2023-11-27T22:06:10.017Z"
   },
   {
    "duration": 8,
    "start_time": "2023-11-27T22:06:10.268Z"
   },
   {
    "duration": 1939,
    "start_time": "2023-11-27T22:06:11.237Z"
   },
   {
    "duration": 481,
    "start_time": "2023-11-27T22:06:14.510Z"
   },
   {
    "duration": 4,
    "start_time": "2023-11-27T22:06:37.038Z"
   },
   {
    "duration": 10,
    "start_time": "2023-11-27T22:06:37.290Z"
   },
   {
    "duration": 3,
    "start_time": "2023-11-27T22:06:37.507Z"
   },
   {
    "duration": 237,
    "start_time": "2023-11-27T22:06:39.339Z"
   },
   {
    "duration": 291,
    "start_time": "2023-11-27T22:07:37.680Z"
   },
   {
    "duration": 285,
    "start_time": "2023-11-27T22:07:47.687Z"
   },
   {
    "duration": 4,
    "start_time": "2023-11-27T22:07:54.086Z"
   },
   {
    "duration": 9,
    "start_time": "2023-11-27T22:07:55.196Z"
   },
   {
    "duration": 3,
    "start_time": "2023-11-27T22:07:55.735Z"
   },
   {
    "duration": 14,
    "start_time": "2023-11-27T22:08:02.026Z"
   },
   {
    "duration": 11,
    "start_time": "2023-11-27T22:08:02.744Z"
   },
   {
    "duration": 14,
    "start_time": "2023-11-27T22:08:03.355Z"
   },
   {
    "duration": 13,
    "start_time": "2023-11-27T22:08:05.188Z"
   },
   {
    "duration": 15,
    "start_time": "2023-11-27T22:08:15.094Z"
   },
   {
    "duration": 3047,
    "start_time": "2023-11-28T12:43:13.300Z"
   },
   {
    "duration": 1035,
    "start_time": "2023-11-28T12:43:16.349Z"
   },
   {
    "duration": 95,
    "start_time": "2023-11-28T12:43:17.386Z"
   },
   {
    "duration": 84,
    "start_time": "2023-11-28T12:43:17.483Z"
   },
   {
    "duration": 14,
    "start_time": "2023-11-28T12:43:17.568Z"
   },
   {
    "duration": 10,
    "start_time": "2023-11-28T12:43:17.583Z"
   },
   {
    "duration": 11,
    "start_time": "2023-11-28T12:43:17.594Z"
   },
   {
    "duration": 16,
    "start_time": "2023-11-28T12:43:17.606Z"
   },
   {
    "duration": 23,
    "start_time": "2023-11-28T12:43:17.623Z"
   },
   {
    "duration": 54,
    "start_time": "2023-11-28T12:43:17.648Z"
   },
   {
    "duration": 26,
    "start_time": "2023-11-28T12:43:17.703Z"
   },
   {
    "duration": 15,
    "start_time": "2023-11-28T12:43:17.730Z"
   },
   {
    "duration": 1301,
    "start_time": "2023-11-28T12:43:17.746Z"
   },
   {
    "duration": 14,
    "start_time": "2023-11-28T12:43:19.048Z"
   },
   {
    "duration": 31,
    "start_time": "2023-11-28T12:43:19.063Z"
   },
   {
    "duration": 52,
    "start_time": "2023-11-28T12:43:19.096Z"
   },
   {
    "duration": 16,
    "start_time": "2023-11-28T12:43:19.150Z"
   },
   {
    "duration": 40,
    "start_time": "2023-11-28T12:43:19.168Z"
   },
   {
    "duration": 6266,
    "start_time": "2023-11-28T12:43:19.209Z"
   },
   {
    "duration": 3086,
    "start_time": "2023-11-28T12:43:25.477Z"
   },
   {
    "duration": 12,
    "start_time": "2023-11-28T12:43:28.565Z"
   },
   {
    "duration": 5,
    "start_time": "2023-11-28T12:43:28.578Z"
   },
   {
    "duration": 5,
    "start_time": "2023-11-28T12:43:28.585Z"
   },
   {
    "duration": 38,
    "start_time": "2023-11-28T12:43:28.592Z"
   },
   {
    "duration": 12,
    "start_time": "2023-11-28T12:43:28.632Z"
   },
   {
    "duration": 193,
    "start_time": "2023-11-28T12:43:28.645Z"
   },
   {
    "duration": 9,
    "start_time": "2023-11-28T12:43:28.840Z"
   },
   {
    "duration": 11,
    "start_time": "2023-11-28T12:43:28.852Z"
   },
   {
    "duration": 1733,
    "start_time": "2023-11-28T12:43:28.864Z"
   },
   {
    "duration": 427,
    "start_time": "2023-11-28T12:43:30.599Z"
   },
   {
    "duration": 4,
    "start_time": "2023-11-28T12:43:31.028Z"
   },
   {
    "duration": 30,
    "start_time": "2023-11-28T12:43:31.033Z"
   },
   {
    "duration": 25,
    "start_time": "2023-11-28T12:43:31.065Z"
   },
   {
    "duration": 291,
    "start_time": "2023-11-28T12:43:31.092Z"
   },
   {
    "duration": 3,
    "start_time": "2023-11-28T12:43:31.385Z"
   },
   {
    "duration": 59,
    "start_time": "2023-11-28T12:43:31.390Z"
   },
   {
    "duration": 24,
    "start_time": "2023-11-28T12:43:31.450Z"
   },
   {
    "duration": 35,
    "start_time": "2023-11-28T12:43:31.475Z"
   },
   {
    "duration": 40,
    "start_time": "2023-11-28T12:43:31.512Z"
   },
   {
    "duration": 24,
    "start_time": "2023-11-28T12:43:31.554Z"
   },
   {
    "duration": 33,
    "start_time": "2023-11-28T12:43:31.580Z"
   },
   {
    "duration": 301,
    "start_time": "2023-11-28T12:44:19.735Z"
   },
   {
    "duration": 109,
    "start_time": "2023-11-28T12:44:39.673Z"
   },
   {
    "duration": 229,
    "start_time": "2023-11-28T12:47:24.072Z"
   },
   {
    "duration": 722,
    "start_time": "2023-11-28T12:47:29.962Z"
   },
   {
    "duration": 750,
    "start_time": "2023-11-28T12:47:43.589Z"
   },
   {
    "duration": 6336,
    "start_time": "2023-11-28T12:48:29.400Z"
   },
   {
    "duration": 1029,
    "start_time": "2023-11-28T12:48:35.738Z"
   },
   {
    "duration": 103,
    "start_time": "2023-11-28T12:48:36.768Z"
   },
   {
    "duration": 115,
    "start_time": "2023-11-28T12:48:36.873Z"
   },
   {
    "duration": 9,
    "start_time": "2023-11-28T12:48:36.990Z"
   },
   {
    "duration": 19,
    "start_time": "2023-11-28T12:48:37.001Z"
   },
   {
    "duration": 12,
    "start_time": "2023-11-28T12:48:37.021Z"
   },
   {
    "duration": 16,
    "start_time": "2023-11-28T12:48:37.034Z"
   },
   {
    "duration": 19,
    "start_time": "2023-11-28T12:48:37.051Z"
   },
   {
    "duration": 51,
    "start_time": "2023-11-28T12:48:37.071Z"
   },
   {
    "duration": 14,
    "start_time": "2023-11-28T12:48:37.123Z"
   },
   {
    "duration": 14,
    "start_time": "2023-11-28T12:48:37.139Z"
   },
   {
    "duration": 1181,
    "start_time": "2023-11-28T12:48:37.154Z"
   },
   {
    "duration": 13,
    "start_time": "2023-11-28T12:48:38.337Z"
   },
   {
    "duration": 3,
    "start_time": "2023-11-28T12:48:38.351Z"
   },
   {
    "duration": 23,
    "start_time": "2023-11-28T12:48:38.355Z"
   },
   {
    "duration": 3,
    "start_time": "2023-11-28T12:48:38.379Z"
   },
   {
    "duration": 35,
    "start_time": "2023-11-28T12:48:38.384Z"
   },
   {
    "duration": 6030,
    "start_time": "2023-11-28T12:48:38.420Z"
   },
   {
    "duration": 2997,
    "start_time": "2023-11-28T12:48:44.451Z"
   },
   {
    "duration": 10,
    "start_time": "2023-11-28T12:48:47.449Z"
   },
   {
    "duration": 12,
    "start_time": "2023-11-28T12:48:47.460Z"
   },
   {
    "duration": 16,
    "start_time": "2023-11-28T12:48:47.473Z"
   },
   {
    "duration": 33,
    "start_time": "2023-11-28T12:48:47.490Z"
   },
   {
    "duration": 15,
    "start_time": "2023-11-28T12:48:47.525Z"
   },
   {
    "duration": 156,
    "start_time": "2023-11-28T12:48:47.541Z"
   },
   {
    "duration": 18,
    "start_time": "2023-11-28T12:48:47.699Z"
   },
   {
    "duration": 24,
    "start_time": "2023-11-28T12:48:47.718Z"
   },
   {
    "duration": 1640,
    "start_time": "2023-11-28T12:48:47.743Z"
   },
   {
    "duration": 408,
    "start_time": "2023-11-28T12:48:49.384Z"
   },
   {
    "duration": 4,
    "start_time": "2023-11-28T12:48:49.793Z"
   },
   {
    "duration": 17,
    "start_time": "2023-11-28T12:48:49.798Z"
   },
   {
    "duration": 3,
    "start_time": "2023-11-28T12:48:49.816Z"
   },
   {
    "duration": 253,
    "start_time": "2023-11-28T12:48:49.821Z"
   },
   {
    "duration": 3,
    "start_time": "2023-11-28T12:48:50.076Z"
   },
   {
    "duration": 12,
    "start_time": "2023-11-28T12:48:50.081Z"
   },
   {
    "duration": 4,
    "start_time": "2023-11-28T12:48:50.094Z"
   },
   {
    "duration": 23,
    "start_time": "2023-11-28T12:48:50.099Z"
   },
   {
    "duration": 10,
    "start_time": "2023-11-28T12:48:50.123Z"
   },
   {
    "duration": 12,
    "start_time": "2023-11-28T12:48:50.135Z"
   },
   {
    "duration": 11,
    "start_time": "2023-11-28T12:48:50.150Z"
   }
  ],
  "kernelspec": {
   "display_name": "Python 3 (ipykernel)",
   "language": "python",
   "name": "python3"
  },
  "language_info": {
   "codemirror_mode": {
    "name": "ipython",
    "version": 3
   },
   "file_extension": ".py",
   "mimetype": "text/x-python",
   "name": "python",
   "nbconvert_exporter": "python",
   "pygments_lexer": "ipython3",
   "version": "3.10.2"
  },
  "toc": {
   "base_numbering": 1,
   "nav_menu": {},
   "number_sections": true,
   "sideBar": true,
   "skip_h1_title": true,
   "title_cell": "Table of Contents",
   "title_sidebar": "Contents",
   "toc_cell": false,
   "toc_position": {},
   "toc_section_display": true,
   "toc_window_display": true
  }
 },
 "nbformat": 4,
 "nbformat_minor": 5
}
